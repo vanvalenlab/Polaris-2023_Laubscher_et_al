{
 "cells": [
  {
   "cell_type": "code",
   "execution_count": 1,
   "id": "194d5356",
   "metadata": {},
   "outputs": [],
   "source": [
    "import glob\n",
    "import os\n",
    "import imageio\n",
    "import numba\n",
    "import numpy as np\n",
    "import pandas as pd\n",
    "import matplotlib.pyplot as plt\n",
    "from scipy import stats\n",
    "from tqdm import tqdm"
   ]
  },
  {
   "cell_type": "code",
   "execution_count": 3,
   "id": "bcd177b7",
   "metadata": {},
   "outputs": [],
   "source": [
    "datadir = '/data/users/julie/Data/Spots_barcode_Emily/dataset_5/output_expr_comparison/'\n",
    "pp_files = sorted(glob.glob(datadir + 'original*code/*trunc.csv'))\n",
    "df = pd.read_csv(pp_files[0])\n",
    "df_dict_pp = dict(df.predicted_name.value_counts())\n",
    "for key in df_dict_pp:\n",
    "    df_dict_pp[key] = np.log10(df_dict_pp[key]+1)"
   ]
  },
  {
   "cell_type": "code",
   "execution_count": 4,
   "id": "c61d9e58",
   "metadata": {},
   "outputs": [],
   "source": [
    "datadir = '/data/users/julie/Data/Spots_barcode_Emily/dataset_2/output_expr_comparison/'\n",
    "post_files = sorted(glob.glob(datadir + 'original*code/*trunc.csv'))\n",
    "df = pd.read_csv(post_files[0])\n",
    "df_dict_post = dict(df.predicted_name.value_counts())\n",
    "for key in df_dict_post:\n",
    "    df_dict_post[key] = np.log10(df_dict_post[key]+1)"
   ]
  },
  {
   "cell_type": "code",
   "execution_count": 5,
   "id": "c1f696db",
   "metadata": {},
   "outputs": [],
   "source": [
    "datadir = '/data/users/julie/Data/Spots_barcode_Emily/dataset_2/output_expr_comparison/'\n",
    "rb_2rc_files = sorted(glob.glob(datadir + 'rel*2*R*C/*trunc.csv'))\n",
    "df = pd.read_csv(rb_2rc_files[0])\n",
    "df_dict_2rc = dict(df.predicted_name.value_counts())\n",
    "for key in df_dict_2rc:\n",
    "    df_dict_2rc[key] = np.log10(df_dict_2rc[key]+1)"
   ]
  },
  {
   "cell_type": "code",
   "execution_count": 6,
   "id": "2aae8c8d",
   "metadata": {},
   "outputs": [
    {
     "data": {
      "text/plain": [
       "(1362116.9999999998, 2101674.0, 1951577.0)"
      ]
     },
     "execution_count": 6,
     "metadata": {},
     "output_type": "execute_result"
    }
   ],
   "source": [
    "total_post = sum([10**df_dict_post[key] for key in df_dict_post])\n",
    "total_2rc = sum([10**df_dict_2rc[key] for key in df_dict_2rc])\n",
    "total_pp = sum([10**df_dict_pp[key] for key in df_dict_pp])\n",
    "total_post, total_2rc, total_pp"
   ]
  },
  {
   "cell_type": "code",
   "execution_count": 7,
   "id": "0c9d3906",
   "metadata": {},
   "outputs": [],
   "source": [
    "blank_dict_pp = {}\n",
    "for key in df_dict_pp:\n",
    "        \n",
    "    if 'Blank' in key:\n",
    "        blank_dict_pp[key] = df_dict_pp[key]\n",
    "        \n",
    "blank_dict_post = {}\n",
    "for key in df_dict_post:\n",
    "        \n",
    "    if 'Blank' in key:\n",
    "        blank_dict_post[key] = df_dict_post[key]\n",
    "        \n",
    "blank_dict_2rc = {}\n",
    "for key in df_dict_2rc:\n",
    "        \n",
    "    if 'Blank' in key:\n",
    "        blank_dict_2rc[key] = df_dict_2rc[key]"
   ]
  },
  {
   "cell_type": "code",
   "execution_count": 8,
   "id": "4bce986d",
   "metadata": {},
   "outputs": [
    {
     "data": {
      "text/plain": [
       "(1959.9999999999998, 6774.999999999999, 216.0)"
      ]
     },
     "execution_count": 8,
     "metadata": {},
     "output_type": "execute_result"
    }
   ],
   "source": [
    "blank_post_total = sum([10**blank_dict_post[key] for key in blank_dict_post])\n",
    "blank_2rc_total = sum([10**blank_dict_2rc[key] for key in blank_dict_2rc])\n",
    "blank_pp_total = sum([10**blank_dict_pp[key] for key in blank_dict_pp])\n",
    "blank_post_total, blank_2rc_total, blank_pp_total"
   ]
  },
  {
   "cell_type": "code",
   "execution_count": 9,
   "id": "f10b46e0",
   "metadata": {},
   "outputs": [
    {
     "data": {
      "image/png": "[encoded data removed]",
      "text/plain": [
       "<Figure size 864x576 with 2 Axes>"
      ]
     },
     "metadata": {
      "needs_background": "light"
     },
     "output_type": "display_data"
    }
   ],
   "source": [
    "f, (ax, ax2) = plt.subplots(2, 1, sharex=True, figsize=(12,8), gridspec_kw={'height_ratios': [4, 1]})\n",
    "\n",
    "back_post = ax.bar([1],[10**df_dict_post['background']/total_post], width=0.2, color='lightskyblue')\n",
    "back_2rc = ax.bar([2],[10**df_dict_2rc['background']/total_2rc], width=0.2, color='lightskyblue')\n",
    "back_pp = ax.bar([3],[10**df_dict_pp['background']/total_pp], width=0.2, color='lightskyblue')\n",
    "\n",
    "unk_post = ax.bar([1.2],[10**df_dict_post['Unknown']/total_post], width=0.2, color='orange')\n",
    "unk_2rc = ax.bar([2.2],[10**df_dict_2rc['Unknown']/total_2rc], width=0.2, color='orange')\n",
    "unk_pp = ax.bar([3.2],[10**df_dict_pp['Unknown']/total_pp], width=0.2, color='orange')\n",
    "\n",
    "blank_post = ax.bar([1.4],[blank_post_total/total_post], width=0.2, color='forestgreen')\n",
    "blank_2rc = ax.bar([2.4],[blank_2rc_total/total_2rc], width=0.2, color='forestgreen')\n",
    "blank_pp = ax.bar([3.4],[blank_pp_total/total_pp], width=0.2, color='forestgreen')\n",
    "\n",
    "back_post = ax2.bar([1],[10**df_dict_post['background']/total_post], width=0.2, color='lightskyblue')\n",
    "back_2rc = ax2.bar([2],[10**df_dict_2rc['background']/total_2rc], width=0.2, color='lightskyblue')\n",
    "back_pp = ax2.bar([3],[10**df_dict_pp['background']/total_pp], width=0.2, color='lightskyblue')\n",
    "\n",
    "unk_post = ax2.bar([1.2],[10**df_dict_post['Unknown']/total_post], width=0.2, color='orange')\n",
    "unk_2rc = ax2.bar([2.2],[10**df_dict_2rc['Unknown']/total_2rc], width=0.2, color='orange')\n",
    "unk_pp = ax2.bar([3.2],[10**df_dict_pp['Unknown']/total_pp], width=0.2, color='orange')\n",
    "\n",
    "blank_post = ax2.bar([1.4],[blank_post_total/total_post], width=0.2, color='forestgreen')\n",
    "blank_2rc = ax2.bar([2.4],[blank_2rc_total/total_2rc], width=0.2, color='forestgreen')\n",
    "blank_pp = ax2.bar([3.4],[blank_pp_total/total_pp], width=0.2, color='forestgreen')\n",
    "\n",
    "ax.set_ylim(0.00025, 0.35)  # outliers only\n",
    "ax2.set_ylim(0.00001, 0.00025) \n",
    "ax2.set_yscale('log')\n",
    "\n",
    "ax.spines['bottom'].set_visible(False)\n",
    "ax2.spines['top'].set_visible(False)\n",
    "ax.xaxis.tick_top()\n",
    "ax.tick_params(labeltop=False)  # don't put tick labels at the top\n",
    "ax2.xaxis.tick_bottom()\n",
    "\n",
    "d = .01  # how big to make the diagonal lines in axes coordinates\n",
    "# arguments to pass to plot, just so we don't keep repeating them\n",
    "kwargs = dict(transform=ax.transAxes, color='k', clip_on=False)\n",
    "ax.plot((-d, +d), (-d, +d), **kwargs)        # top-left diagonal\n",
    "ax.plot((1 - d, 1 + d), (-d, +d), **kwargs)  # top-right diagonal\n",
    "\n",
    "kwargs.update(transform=ax2.transAxes)  # switch to the bottom axes\n",
    "ax2.plot((-d, +d), (1 - d, 1 + d), **kwargs)  # bottom-left diagonal\n",
    "ax2.plot((1 - d, 1 + d), (1 - d, 1 + d), **kwargs)  # bottom-right diagonal\n",
    "\n",
    "ax.set_xticks([1.2, 2.2, 3.2], ['TrackPy+PoSTcode', 'Polaris+Rel. Bern.', 'Polaris+PoSTcode'])\n",
    "ax.legend((back_post[0], unk_post[0], blank_post[0]),\n",
    "          ('background', 'unknown', 'blank'),\n",
    "          loc='upper left'\n",
    "         ) \n",
    "plt.ylabel('Fraction of spots')\n",
    "plt.tight_layout()\n",
    "# plt.savefig('/data/users/emily/publication_figures/supp_fig7-split.pdf')"
   ]
  },
  {
   "cell_type": "code",
   "execution_count": 10,
   "id": "0811d0b0",
   "metadata": {},
   "outputs": [
    {
     "data": {
      "image/png": "[encoded data removed]",
      "text/plain": [
       "<Figure size 648x432 with 1 Axes>"
      ]
     },
     "metadata": {
      "needs_background": "light"
     },
     "output_type": "display_data"
    }
   ],
   "source": [
    "plt.figure(figsize=(9,6))\n",
    "\n",
    "back_post = plt.bar([1],[10**df_dict_post['background']/total_post], width=0.2, color='lightskyblue')\n",
    "back_2rc = plt.bar([2],[10**df_dict_2rc['background']/total_2rc], width=0.2, color='lightskyblue')\n",
    "back_pp = plt.bar([3],[10**df_dict_pp['background']/total_pp], width=0.2, color='lightskyblue')\n",
    "\n",
    "unk_post = plt.bar([1.2],[10**df_dict_post['Unknown']/total_post], width=0.2, color='orange')\n",
    "unk_2rc = plt.bar([2.2],[10**df_dict_2rc['Unknown']/total_2rc], width=0.2, color='orange')\n",
    "unk_pp = plt.bar([3.2],[10**df_dict_pp['Unknown']/total_pp], width=0.2, color='orange')\n",
    "\n",
    "blank_post = plt.bar([1.4],[blank_post_total/total_post], width=0.2, color='forestgreen')\n",
    "blank_2rc = plt.bar([2.4],[blank_2rc_total/total_2rc], width=0.2, color='forestgreen')\n",
    "blank_pp = plt.bar([3.4],[blank_pp_total/total_pp], width=0.2, color='forestgreen')\n",
    "\n",
    "plt.xticks([1.2, 2.2, 3.2], ['TrackPy+PoSTcode', 'Polaris+Rel. Bern.', 'Polaris+PoSTcode'])\n",
    "plt.legend((back_post[0], unk_post[0], blank_post[0]),\n",
    "          ('background', 'unknown', 'blank'),\n",
    "          loc='upper left'\n",
    "         ) \n",
    "plt.ylabel('Fraction of spots')\n",
    "plt.tight_layout()\n",
    "# plt.savefig('/data/users/emily/publication_figures/supp_fig7-linear.pdf')"
   ]
  },
  {
   "cell_type": "code",
   "execution_count": 16,
   "id": "67062b58",
   "metadata": {},
   "outputs": [
    {
     "data": {
      "image/png": "[encoded data removed]",
      "text/plain": [
       "<Figure size 648x432 with 1 Axes>"
      ]
     },
     "metadata": {
      "needs_background": "light"
     },
     "output_type": "display_data"
    }
   ],
   "source": [
    "plt.figure(figsize=(9,6))\n",
    "\n",
    "back_post = plt.bar([1],[10**df_dict_post['background']/total_post], width=0.2, color='lightskyblue')\n",
    "back_2rc = plt.bar([3],[10**df_dict_2rc['background']/total_2rc], width=0.2, color='lightskyblue')\n",
    "back_pp = plt.bar([2],[10**df_dict_pp['background']/total_pp], width=0.2, color='lightskyblue')\n",
    "\n",
    "unk_post = plt.bar([1.2],[10**df_dict_post['Unknown']/total_post], width=0.2, color='orange')\n",
    "unk_2rc = plt.bar([3.2],[10**df_dict_2rc['Unknown']/total_2rc], width=0.2, color='orange')\n",
    "unk_pp = plt.bar([2.2],[10**df_dict_pp['Unknown']/total_pp], width=0.2, color='orange')\n",
    "\n",
    "blank_post = plt.bar([1.4],[blank_post_total/total_post], width=0.2, color='forestgreen')\n",
    "blank_2rc = plt.bar([3.4],[blank_2rc_total/total_2rc], width=0.2, color='forestgreen')\n",
    "blank_pp = plt.bar([2.4],[blank_pp_total/total_pp], width=0.2, color='forestgreen')\n",
    "\n",
    "plt.xticks([1.2, 2.2, 3.2], ['TrackPy+PoSTcode', 'Polaris+PoSTcode', 'Polaris+Rel. Bern.'])\n",
    "plt.legend((back_post[0], unk_post[0], blank_post[0]),\n",
    "          ('background', 'unknown', 'blank'),\n",
    "          loc='upper left'\n",
    "         ) \n",
    "plt.ylabel('Fraction of spots')\n",
    "plt.yscale('log')\n",
    "plt.ylim([0.00003, 1])\n",
    "plt.tight_layout()\n",
    "# plt.savefig('/data/users/emily/publication_figures/supp_fig7-log.pdf')"
   ]
  },
  {
   "cell_type": "code",
   "execution_count": null,
   "id": "4c0811a0",
   "metadata": {},
   "outputs": [],
   "source": []
  }
 ],
 "metadata": {
  "kernelspec": {
   "display_name": "Python 3 (ipykernel)",
   "language": "python",
   "name": "python3"
  },
  "language_info": {
   "codemirror_mode": {
    "name": "ipython",
    "version": 3
   },
   "file_extension": ".py",
   "mimetype": "text/x-python",
   "name": "python",
   "nbconvert_exporter": "python",
   "pygments_lexer": "ipython3",
   "version": "3.8.10"
  }
 },
 "nbformat": 4,
 "nbformat_minor": 5
}
