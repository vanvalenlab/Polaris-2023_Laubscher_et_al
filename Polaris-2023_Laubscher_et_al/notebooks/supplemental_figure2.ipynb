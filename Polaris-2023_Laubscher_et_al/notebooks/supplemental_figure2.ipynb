{
 "cells": [
  {
   "cell_type": "code",
   "execution_count": 1,
   "id": "8e0cefb6",
   "metadata": {},
   "outputs": [
    {
     "name": "stderr",
     "output_type": "stream",
     "text": [
      "/usr/local/lib/python3.8/dist-packages/keras/optimizer_v2/gradient_descent.py:102: UserWarning: The `lr` argument is deprecated, use `learning_rate` instead.\n",
      "  super(SGD, self).__init__(name, **kwargs)\n"
     ]
    }
   ],
   "source": [
    "import random\n",
    "import numpy as np\n",
    "import networkx as nx\n",
    "import matplotlib.pyplot as plt\n",
    "from tqdm import tqdm\n",
    "from itertools import combinations\n",
    "from deepcell_spots.simulate_data import sim_gt_clusters, sim_annotators, percent_correct\n",
    "from deepcell_spots.cluster_vis import label_graph_gt, label_graph_prob\n",
    "from deepcell_spots.spot_em import em_spot"
   ]
  },
  {
   "cell_type": "code",
   "execution_count": 2,
   "id": "199d4888",
   "metadata": {},
   "outputs": [
    {
     "name": "stderr",
     "output_type": "stream",
     "text": [
      "100%|████████████████████████████████████████████████████████████████████████████████████████████████████████████████████████| 50/50 [00:43<00:00,  1.14it/s]\n"
     ]
    }
   ],
   "source": [
    "num_trials = 50  # number of independent trials\n",
    "\n",
    "tp_diff = []\n",
    "fp_diff = []\n",
    "for _ in tqdm(range(num_trials)):\n",
    "    prior = 0.5  # probability that a simulated spot will be a TP spot\n",
    "    num_clusters = 1000  # number of ground truth spots, ie clusters\n",
    "    gt = sim_gt_clusters(num_clusters, prior)  # identity of spots as TP or FP\n",
    "\n",
    "    num_classic_meth = 4  # number of simulated classical spot detection methods\n",
    "    gt_tp_list = np.array([random.random() for i in range(num_classic_meth)])*0.2 + 0.8  # TPR of each sim. method\n",
    "    gt_fp_list = np.array([random.random() for i in range(num_classic_meth)])*0.2  # FPR of each sim. method\n",
    "    data = sim_annotators(gt, gt_tp_list, gt_fp_list)  # matrix of successful or missed detections\n",
    "\n",
    "    tp_guess = [0.9] * num_classic_meth  # initial guess for TPR of each method\n",
    "    fp_guess = [0.1] * num_classic_meth  # initial guess for FPR of each method\n",
    "    prior_guess = 0.5  # prior probability of TP\n",
    "    max_iter = 20  # number of EM iterations\n",
    "    tp_final, fp_final, p_matrix = em_spot(data, tp_guess, fp_guess, prior_guess, max_iter)\n",
    "\n",
    "    tp_diff.extend(np.array(tp_final) - gt_tp_list)  # error in estimate of TP\n",
    "    fp_diff.extend(np.array(fp_final) - gt_fp_list)  # error in estimate of FP"
   ]
  },
  {
   "cell_type": "code",
   "execution_count": 3,
   "id": "5a8b78fb",
   "metadata": {},
   "outputs": [
    {
     "data": {
      "image/png": "[encoded data removed]",
      "text/plain": [
       "<Figure size 432x288 with 1 Axes>"
      ]
     },
     "metadata": {
      "needs_background": "light"
     },
     "output_type": "display_data"
    }
   ],
   "source": [
    "plt.hist(fp_diff, label='FPR')\n",
    "plt.hist(tp_diff, label='TPR')\n",
    "plt.legend()\n",
    "plt.xlabel('Error in estimate')\n",
    "plt.ylabel('Counts')\n",
    "plt.show()"
   ]
  },
  {
   "cell_type": "code",
   "execution_count": 4,
   "id": "69b6cd59",
   "metadata": {},
   "outputs": [
    {
     "name": "stderr",
     "output_type": "stream",
     "text": [
      "100%|████████████████████████████████████████████████████████████████████████████████████████████████████████████████████████| 10/10 [10:22<00:00, 62.23s/it]\n"
     ]
    }
   ],
   "source": [
    "num_trials = 50  # number of independent trials per condition\n",
    "num_sizes = 10  # number of conditions\n",
    "data_set_size = np.logspace(1,4,num=num_sizes).astype(int)\n",
    "\n",
    "p_correct_matrix = np.zeros((num_sizes,num_trials))\n",
    "\n",
    "for i in tqdm(range(num_sizes)):\n",
    "    for ii in range(num_trials):\n",
    "        prior = 0.5  # probability that a simulated spot will be a TP spot\n",
    "        gt = sim_gt_clusters(data_set_size[i],prior)  # identity of spots as TP or FP\n",
    "\n",
    "        tp_list = np.array([random.random() for i in range(num_classic_meth)])*0.2 + 0.8  # TPR of each sim. method\n",
    "        fp_list = np.array([random.random() for i in range(num_classic_meth)])*0.2  # FPR of each sim. method\n",
    "        data = sim_annotators(gt, tp_list, fp_list)  # matrix of successful or missed detections\n",
    "\n",
    "        tp_guess = [0.9] * num_classic_meth  # initial guess for TPR of each method\n",
    "        fp_guess = [0.1] * num_classic_meth  # initial guess for FPR of each method\n",
    "\n",
    "        tp_final, fp_final, p_matrix = em_spot(data, tp_guess, fp_guess, prior, 15)\n",
    "        p_correct = percent_correct(gt, p_matrix)  # percent of spots correctly labeled\n",
    "\n",
    "        p_correct_matrix[i,ii] = p_correct"
   ]
  },
  {
   "cell_type": "code",
   "execution_count": 5,
   "id": "40ee7657",
   "metadata": {},
   "outputs": [
    {
     "data": {
      "image/png": "[encoded data removed]",
      "text/plain": [
       "<Figure size 432x288 with 1 Axes>"
      ]
     },
     "metadata": {
      "needs_background": "light"
     },
     "output_type": "display_data"
    }
   ],
   "source": [
    "for i in range(num_sizes):\n",
    "    plt.scatter([data_set_size[i]]*num_trials,p_correct_matrix[i],c='tomato',alpha=0.5)\n",
    "\n",
    "plt.plot([0,10e4],[1,1],'k--')\n",
    "plt.xscale('log')\n",
    "plt.xlim((5,3e4))\n",
    "plt.xlabel('Number of spots in data set')\n",
    "plt.ylabel('Percent of spots correctly labeled')\n",
    "plt.show()"
   ]
  },
  {
   "cell_type": "code",
   "execution_count": null,
   "id": "fda1ab52",
   "metadata": {},
   "outputs": [
    {
     "name": "stderr",
     "output_type": "stream",
     "text": [
      " 91%|█████████████████████████████████████████████████████████████████████████████████████████████████████████████           | 10/11 [06:31<00:44, 44.83s/it]"
     ]
    }
   ],
   "source": [
    "num_trials = 50  # number of independent trials per condition\n",
    "max_num_annotators = 13  # number of conditions\n",
    "\n",
    "p_correct_matrix2 = np.zeros((max_num_annotators-2,num_trials))\n",
    "\n",
    "for i in tqdm(range(2,max_num_annotators)):\n",
    "    for ii in range(num_trials):\n",
    "        prior = 0.5  # probability that a simulated spot will be a TP spot\n",
    "        num_clusters = 1000  # number of ground truth spots, ie clusters\n",
    "        gt = sim_gt_clusters(num_clusters, prior)  # identity of spots as TP or FP\n",
    "\n",
    "        tp_list = np.array([random.random() for i in range(i)])*0.2 + 0.8  # TPR of each sim. method\n",
    "        fp_list = np.array([random.random() for i in range(i)])*0.2  # FPR of each sim. method\n",
    "        data = sim_annotators(gt, tp_list, fp_list)  # matrix of successful or missed detections\n",
    "\n",
    "        tp_guess = [0.7]*i  # initial guess for TPR of each method\n",
    "        fp_guess = [0.1]*i  # initial guess for FPR of each method\n",
    "\n",
    "        tp_final, fp_final, p_matrix = em_spot(data, tp_guess, fp_guess, prior, 15)\n",
    "        p_correct = percent_correct(gt, p_matrix)  # percent of spots correctly labeled\n",
    "\n",
    "        p_correct_matrix2[i-2,ii] = p_correct"
   ]
  },
  {
   "cell_type": "code",
   "execution_count": null,
   "id": "816bb646",
   "metadata": {},
   "outputs": [],
   "source": [
    "for i in range(np.shape(p_correct_matrix2)[0]):\n",
    "    if i == 0:\n",
    "        plt.scatter([i+2]*num_trials,p_correct_matrix2[i],c='tomato',alpha=0.5,label='Random TP-wide')\n",
    "    else:\n",
    "        plt.scatter([i+2]*num_trials,p_correct_matrix2[i],c='tomato',alpha=0.5)\n",
    "        \n",
    "plt.plot([2,12],[1,1],'k--')\n",
    "plt.xlabel('Number of annotators')\n",
    "plt.ylabel('Percent of spots correctly labeled')\n",
    "plt.show()"
   ]
  },
  {
   "cell_type": "code",
   "execution_count": null,
   "id": "eb6bd6c9",
   "metadata": {},
   "outputs": [],
   "source": [
    "fig,ax = plt.subplots(1,3,figsize=(18,5))\n",
    "\n",
    "ax[0].hist(fp_diff, label='FPR')\n",
    "ax[0].hist(tp_diff, label='TPR')\n",
    "ax[0].legend()\n",
    "ax[0].set_xlabel('Error in estimate')\n",
    "ax[0].set_ylabel('Counts')\n",
    "\n",
    "for i in range(num_sizes):\n",
    "    ax[1].scatter([data_set_size[i]]*num_trials,p_correct_matrix[i],c='tomato',alpha=0.5)\n",
    "\n",
    "ax[1].plot([0,10e4],[1,1],'k--')\n",
    "ax[1].set_xscale('log')\n",
    "ax[1].set_xlim((5,3e4))\n",
    "ax[1].set_xlabel('Number of spots in data set')\n",
    "ax[1].set_ylabel('Percent of spots correctly labeled')\n",
    "\n",
    "for i in range(np.shape(p_correct_matrix2)[0]):\n",
    "        ax[2].scatter([i+2]*num_trials,p_correct_matrix2[i],c='tomato',alpha=0.5)\n",
    "        \n",
    "ax[2].plot([2,12],[1,1],'k--')\n",
    "ax[2].set_xlabel('Number of spot detection methods')\n",
    "ax[2].set_ylabel('Percent of spots correctly labeled')\n",
    "\n",
    "plt.show()"
   ]
  },
  {
   "cell_type": "code",
   "execution_count": null,
   "id": "baf88520",
   "metadata": {},
   "outputs": [],
   "source": []
  }
 ],
 "metadata": {
  "kernelspec": {
   "display_name": "Python 3 (ipykernel)",
   "language": "python",
   "name": "python3"
  },
  "language_info": {
   "codemirror_mode": {
    "name": "ipython",
    "version": 3
   },
   "file_extension": ".py",
   "mimetype": "text/x-python",
   "name": "python",
   "nbconvert_exporter": "python",
   "pygments_lexer": "ipython3",
   "version": "3.8.10"
  }
 },
 "nbformat": 4,
 "nbformat_minor": 5
}
