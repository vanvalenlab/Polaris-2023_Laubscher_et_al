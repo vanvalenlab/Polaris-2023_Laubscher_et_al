{
 "cells": [
  {
   "cell_type": "code",
   "execution_count": 12,
   "id": "54227f24",
   "metadata": {},
   "outputs": [],
   "source": [
    "import glob\n",
    "import cv2\n",
    "import numpy as np\n",
    "import matplotlib.pyplot as plt\n",
    "from PIL import Image\n",
    "from tqdm import tqdm\n",
    "\n",
    "from deepcell_spots.simulate_data import gaussian_spot_image_generator\n",
    "from deepcell_spots.preprocessing_utils import min_max_normalize"
   ]
  },
  {
   "cell_type": "code",
   "execution_count": 2,
   "id": "e0c74868",
   "metadata": {},
   "outputs": [],
   "source": [
    "import random\n",
    "random.seed(0)"
   ]
  },
  {
   "cell_type": "code",
   "execution_count": 3,
   "id": "b45a3ae1",
   "metadata": {},
   "outputs": [
    {
     "data": {
      "text/plain": [
       "['/data/users/emily/SeqFISH/for_simulated_spots/MAX_20200702-SeqFISH-HEK293T17_0nMp_50nMs.nd2 - C=2.tif',\n",
       " '/data/users/emily/SeqFISH/for_simulated_spots/MAX_20200702-SeqFISH-HEK293T17_0nMp_50nMs001.nd2 - C=2.tif',\n",
       " '/data/users/emily/SeqFISH/for_simulated_spots/MAX_20200702-SeqFISH-HEK293T17_0nMp_50nMs.nd2 - C=1.tif']"
      ]
     },
     "execution_count": 3,
     "metadata": {},
     "output_type": "execute_result"
    }
   ],
   "source": [
    "data_folder = '../data/simulated_images/'\n",
    "image_files = glob.glob(data_folder + 'background*')\n",
    "im = np.array(Image.open(image_files[0]))\n",
    "\n",
    "plt.imshow(im)\n",
    "plt.show()"
   ]
  },
  {
   "cell_type": "code",
   "execution_count": 7,
   "id": "de5dee0d",
   "metadata": {},
   "outputs": [
    {
     "data": {
      "text/plain": [
       "(100, 128, 128, 1)"
      ]
     },
     "execution_count": 7,
     "metadata": {},
     "output_type": "execute_result"
    }
   ],
   "source": [
    "im = im[:1280, :1280]\n",
    "\n",
    "im_stack = []\n",
    "dim_output = 128\n",
    "# Get dimensions of existing stack\n",
    "dim_x = np.shape(im)[1]\n",
    "dim_y = np.shape(im)[0]\n",
    "\n",
    "# Calculate the number of slices of that size in loaded image\n",
    "x_slices = int(dim_x/dim_output)\n",
    "y_slices = int(dim_y/dim_output)\n",
    "\n",
    "# Create sliced images from loaded image and add to stack\n",
    "for i in range(x_slices):\n",
    "    for ii in range(y_slices):\n",
    "        im_slice = im[ii*dim_output:(ii+1)*dim_output,i*dim_output:(i+1)*dim_output]\n",
    "        im_stack.append(im_slice)\n",
    "\n",
    "im_stack = np.expand_dims(im_stack, axis=-1)\n",
    "np.shape(im_stack)"
   ]
  },
  {
   "cell_type": "code",
   "execution_count": 8,
   "id": "edfe7086",
   "metadata": {},
   "outputs": [],
   "source": [
    "L = 128 # square image side length\n",
    "sigma_mean = 1.5 # mean sigma of gaussian dot\n",
    "sigma_std = 0.1 # deviation from sigma\n",
    "A_std = 0 # deviation of intensity of gaussian\n",
    "noise_mean = 0 # white noise added to entire image - mean and std\n",
    "noise_std = 0"
   ]
  },
  {
   "cell_type": "code",
   "execution_count": 13,
   "id": "cca5248d",
   "metadata": {},
   "outputs": [
    {
     "name": "stderr",
     "output_type": "stream",
     "text": [
      "100%|██████████████████████████████████████████████████████████████████████████████████████████████████████████████████████████| 6/6 [01:44<00:00, 17.38s/it]\n"
     ]
    }
   ],
   "source": [
    "sim_images_density = {}\n",
    "sim_coords_density = {}\n",
    "num_spots_list = np.linspace(20,300,6).astype(int)\n",
    "A_list = np.linspace(3,6,6)\n",
    "num_images = np.shape(im_stack)[0]\n",
    "for i in tqdm(range(len(num_spots_list))):\n",
    "    g = gaussian_spot_image_generator(L, num_spots_list[i], num_spots_list[i], \n",
    "                                      sigma_mean, sigma_std, \n",
    "                                      A_list[2], A_std, \n",
    "                                      noise_mean = noise_mean, noise_std = noise_std,\n",
    "                                      segmask=True,yield_pos=True)\n",
    "    X = []\n",
    "    y = []\n",
    "    for ind in range(num_images):\n",
    "        img, label, x_list, y_list, bboxes = next(g)\n",
    "        dot_coords = np.array([y_list, x_list]).T\n",
    "\n",
    "        X.append(np.expand_dims(img,axis=-1))\n",
    "        y.append(dot_coords)\n",
    "\n",
    "    X = np.array(X)\n",
    "    \n",
    "    sim_spot_stack = np.array([cv2.GaussianBlur(im_stack[i,...,0],(7,7),0) + X[i,...,0]*20 for i in range(num_images)])\n",
    "    sim_spot_stack = np.expand_dims(sim_spot_stack, axis=-1)\n",
    "    sim_spot_stack = min_max_normalize(sim_spot_stack)\n",
    "    \n",
    "    sim_images_density[num_spots_list[i]] = sim_spot_stack\n",
    "    sim_coords_density[num_spots_list[i]] = y"
   ]
  },
  {
   "cell_type": "code",
   "execution_count": 14,
   "id": "ffb54948",
   "metadata": {},
   "outputs": [
    {
     "name": "stderr",
     "output_type": "stream",
     "text": [
      "100%|██████████████████████████████████████████████████████████████████████████████████████████████████████████████████████████| 6/6 [01:25<00:00, 14.22s/it]\n"
     ]
    }
   ],
   "source": [
    "sim_images_intensity = {}\n",
    "sim_coords_intensity = {}\n",
    "num_spots_list = np.linspace(20,300,6).astype(int)\n",
    "A_list = np.linspace(3,6,6)\n",
    "num_images = np.shape(im_stack)[0]\n",
    "for i in tqdm(range(len(A_list))):\n",
    "    g = gaussian_spot_image_generator(L, num_spots_list[2], num_spots_list[2], \n",
    "                                      sigma_mean, sigma_std, \n",
    "                                      A_list[i], A_std, \n",
    "                                      noise_mean = noise_mean, noise_std = noise_std,\n",
    "                                      segmask=True,yield_pos=True)\n",
    "    X = []\n",
    "    y = []\n",
    "    for ind in range(num_images):\n",
    "        img, label, x_list, y_list, bboxes = next(g)\n",
    "        dot_coords = np.array([y_list, x_list]).T\n",
    "\n",
    "        X.append(np.expand_dims(img,axis=-1))\n",
    "        y.append(dot_coords)\n",
    "\n",
    "    X = np.array(X)\n",
    "    \n",
    "    sim_spot_stack = np.array([cv2.GaussianBlur(im_stack[i,...,0],(7,7),0) + X[i,...,0]*20 for i in range(num_images)])\n",
    "    sim_spot_stack = np.expand_dims(sim_spot_stack, axis=-1)\n",
    "    sim_spot_stack = min_max_normalize(sim_spot_stack)\n",
    "    \n",
    "    sim_images_intensity[A_list[i]] = sim_spot_stack\n",
    "    sim_coords_intensity[A_list[i]] = y"
   ]
  },
  {
   "cell_type": "code",
   "execution_count": 15,
   "id": "0944f0a6",
   "metadata": {},
   "outputs": [
    {
     "name": "stderr",
     "output_type": "stream",
     "text": [
      "/usr/local/lib/python3.8/dist-packages/numpy/lib/npyio.py:713: VisibleDeprecationWarning: Creating an ndarray from ragged nested sequences (which is a list-or-tuple of lists-or-tuples-or ndarrays with different lengths or shapes) is deprecated. If you meant to do this, you must specify 'dtype=object' when creating the ndarray.\n",
      "  val = np.asanyarray(val)\n"
     ]
    }
   ],
   "source": [
    "np.savez('../data/sim_images_density.npz',\n",
    "         X=list(sim_images_density.values()),\n",
    "         y=list(sim_coords_density.values()))\n",
    "\n",
    "np.savez('../data/simulated_images/sim_images_intensity.npz',\n",
    "         X=list(sim_images_intensity.values()),\n",
    "         y=list(sim_coords_intensity.values()))"
   ]
  },
  {
   "cell_type": "code",
   "execution_count": null,
   "id": "dbcd4389",
   "metadata": {},
   "outputs": [],
   "source": []
  }
 ],
 "metadata": {
  "kernelspec": {
   "display_name": "Python 3 (ipykernel)",
   "language": "python",
   "name": "python3"
  },
  "language_info": {
   "codemirror_mode": {
    "name": "ipython",
    "version": 3
   },
   "file_extension": ".py",
   "mimetype": "text/x-python",
   "name": "python",
   "nbconvert_exporter": "python",
   "pygments_lexer": "ipython3",
   "version": "3.8.10"
  }
 },
 "nbformat": 4,
 "nbformat_minor": 5
}
