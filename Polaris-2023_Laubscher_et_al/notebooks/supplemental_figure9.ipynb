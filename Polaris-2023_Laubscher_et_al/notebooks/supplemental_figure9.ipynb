{
 "cells": [
  {
   "cell_type": "code",
   "execution_count": 7,
   "id": "5cef55c1",
   "metadata": {},
   "outputs": [],
   "source": [
    "import numpy as np\n",
    "import matplotlib.pyplot as plt\n",
    "import pandas as pd\n",
    "from tqdm import tqdm\n",
    "from sklearn.metrics import  f1_score\n",
    "import os\n",
    "import seaborn as sns"
   ]
  },
  {
   "cell_type": "code",
   "execution_count": 2,
   "id": "3765c1b6",
   "metadata": {},
   "outputs": [],
   "source": [
    "def load_datasets(p1, \n",
    "                     groundtruth=True, cont_bern=True, relaxed_bern=True, \n",
    "                     mult_norm=True, dist_matching=True, original_postcode=True):\n",
    "    \n",
    "    output_name = 'decoded_spots_all_fovs_dropout_%.1f.csv'%p1\n",
    "       \n",
    "        \n",
    "    # Load dataset\n",
    "    all_dfs = []\n",
    "    all_names = []\n",
    "\n",
    "    if groundtruth:\n",
    "        output_path = os.path.join('/data/Spots_barcode_Emily/dataset_3/output_expr_comparison/groundtruth/', 'decoded_spots_all_fovs_dropout_%.1f.csv'%p1)\n",
    "        decoded_spots_df_groundtruth = pd.read_csv(output_path, index_col=0)\n",
    "        # quick fix to df_groundtruth\n",
    "        decoded_spots_df_groundtruth.predicted_id = decoded_spots_df_groundtruth.predicted_name\n",
    "\n",
    "        all_dfs += [decoded_spots_df_groundtruth]\n",
    "        all_names += ['groundtruth']\n",
    "\n",
    "    if cont_bern:\n",
    "        output_path = '/data/Spots_barcode_Emily/dataset_3/output_expr_comparison/continuous_bernoulli_2*R*C'\n",
    "        decoded_spots_df_cont_bern = pd.read_csv(os.path.join(output_path,  output_name), index_col=0)\n",
    "\n",
    "        all_dfs += [decoded_spots_df_cont_bern]\n",
    "        all_names += ['cont_bern_2*R*C']\n",
    "            \n",
    "    if relaxed_bern:\n",
    "        output_path = '/data/Spots_barcode_Emily/dataset_3/output_expr_comparison/relaxed_bernoulli_2*R*C'\n",
    "        decoded_spots_df_relaxed_bern = pd.read_csv(os.path.join(output_path,  output_name), index_col=0)\n",
    "\n",
    "        all_dfs += [decoded_spots_df_relaxed_bern]\n",
    "        all_names += ['relaxed_bern_2*R*C']\n",
    "    \n",
    "    if mult_norm:\n",
    "        output_path = '/data/Spots_barcode_Emily/dataset_3/output_expr_comparison/multivariate_normal'\n",
    "        decoded_spots_df_multi_norm = pd.read_csv(os.path.join(output_path, output_name), index_col=0)\n",
    "\n",
    "        all_dfs += [decoded_spots_df_multi_norm]\n",
    "        all_names += ['multi_norm']\n",
    "\n",
    "    if dist_matching:\n",
    "        output_path = '/data/Spots_barcode_Emily/dataset_3/output_expr_comparison/distance_matching_euclidean'\n",
    "        decoded_spots_df_distance_matching = pd.read_csv(os.path.join(output_path, output_name), index_col=0)\n",
    "\n",
    "        all_dfs += [decoded_spots_df_distance_matching]\n",
    "        all_names += ['distance_matching']\n",
    "    \n",
    "    if original_postcode:\n",
    "        output_path = '/data/Spots_barcode_Emily/dataset_4/output_expr_comparison/original_postcode_old'\n",
    "        decoded_spots_df_original_postcode = pd.read_csv(os.path.join(output_path, output_name), index_col=0)\n",
    "\n",
    "        all_dfs += [decoded_spots_df_original_postcode]\n",
    "        all_names += ['original_postcode']\n",
    "\n",
    "    M = len(all_dfs)\n",
    "    \n",
    "    return M, all_dfs, all_names"
   ]
  },
  {
   "cell_type": "code",
   "execution_count": 3,
   "id": "6d1a87df",
   "metadata": {},
   "outputs": [],
   "source": [
    "def cal_F1_score_with_groundtruth(all_dfs, all_names, average_kind='weighted'):\n",
    "    f1_score_list = []\n",
    "    for i in tqdm(range(1, M)):\n",
    "        score = f1_score(all_dfs[0].predicted_id, all_dfs[i].predicted_id, average=average_kind)\n",
    "        f1_score_list.append(score)\n",
    "    \n",
    "    return f1_score_list"
   ]
  },
  {
   "cell_type": "code",
   "execution_count": 4,
   "id": "77ee3180",
   "metadata": {},
   "outputs": [],
   "source": [
    "dropout_list = np.arange(0, 0.85, 0.1)"
   ]
  },
  {
   "cell_type": "code",
   "execution_count": 5,
   "id": "65f4e057",
   "metadata": {},
   "outputs": [
    {
     "name": "stderr",
     "output_type": "stream",
     "text": [
      "  0%|                                                                             | 0/9 [00:00<?, ?it/s]\n",
      "  0%|                                                                             | 0/5 [00:00<?, ?it/s]\u001b[A\n",
      " 20%|█████████████▊                                                       | 1/5 [00:01<00:07,  1.85s/it]\u001b[A\n",
      " 40%|███████████████████████████▌                                         | 2/5 [00:03<00:05,  1.85s/it]\u001b[A\n",
      " 60%|█████████████████████████████████████████▍                           | 3/5 [00:05<00:03,  1.88s/it]\u001b[A\n",
      " 80%|███████████████████████████████████████████████████████▏             | 4/5 [00:07<00:01,  1.87s/it]\u001b[A\n",
      "100%|█████████████████████████████████████████████████████████████████████| 5/5 [00:09<00:00,  1.92s/it]\u001b[A\n",
      " 11%|███████▌                                                            | 1/9 [01:43<13:47, 103.50s/it]\n",
      "  0%|                                                                             | 0/5 [00:00<?, ?it/s]\u001b[A\n",
      " 20%|█████████████▊                                                       | 1/5 [00:01<00:07,  1.92s/it]\u001b[A\n",
      " 40%|███████████████████████████▌                                         | 2/5 [00:03<00:05,  1.92s/it]\u001b[A\n",
      " 60%|█████████████████████████████████████████▍                           | 3/5 [00:06<00:04,  2.21s/it]\u001b[A\n",
      " 80%|███████████████████████████████████████████████████████▏             | 4/5 [00:08<00:02,  2.21s/it]\u001b[A\n",
      "100%|█████████████████████████████████████████████████████████████████████| 5/5 [00:11<00:00,  2.21s/it]\u001b[A\n",
      " 22%|███████████████                                                     | 2/9 [03:31<12:24, 106.36s/it]\n",
      "  0%|                                                                             | 0/5 [00:00<?, ?it/s]\u001b[A\n",
      " 20%|█████████████▊                                                       | 1/5 [00:02<00:08,  2.20s/it]\u001b[A\n",
      " 40%|███████████████████████████▌                                         | 2/5 [00:04<00:06,  2.18s/it]\u001b[A\n",
      " 60%|█████████████████████████████████████████▍                           | 3/5 [00:07<00:04,  2.47s/it]\u001b[A\n",
      " 80%|███████████████████████████████████████████████████████▏             | 4/5 [00:09<00:02,  2.45s/it]\u001b[A\n",
      "100%|█████████████████████████████████████████████████████████████████████| 5/5 [00:12<00:00,  2.43s/it]\u001b[A\n",
      " 33%|██████████████████████▋                                             | 3/9 [05:20<10:44, 107.49s/it]\n",
      "  0%|                                                                             | 0/5 [00:00<?, ?it/s]\u001b[A\n",
      " 20%|█████████████▊                                                       | 1/5 [00:02<00:09,  2.36s/it]\u001b[A\n",
      " 40%|███████████████████████████▌                                         | 2/5 [00:04<00:06,  2.27s/it]\u001b[A\n",
      " 60%|█████████████████████████████████████████▍                           | 3/5 [00:07<00:05,  2.59s/it]\u001b[A\n",
      " 80%|███████████████████████████████████████████████████████▏             | 4/5 [00:10<00:02,  2.63s/it]\u001b[A\n",
      "100%|█████████████████████████████████████████████████████████████████████| 5/5 [00:12<00:00,  2.55s/it]\u001b[A\n",
      " 44%|██████████████████████████████▏                                     | 4/9 [07:08<08:58, 107.72s/it]\n",
      "  0%|                                                                             | 0/5 [00:00<?, ?it/s]\u001b[A\n",
      " 20%|█████████████▊                                                       | 1/5 [00:02<00:11,  2.77s/it]\u001b[A\n",
      " 40%|███████████████████████████▌                                         | 2/5 [00:05<00:07,  2.59s/it]\u001b[A\n",
      " 60%|█████████████████████████████████████████▍                           | 3/5 [00:08<00:05,  2.91s/it]\u001b[A\n",
      " 80%|███████████████████████████████████████████████████████▏             | 4/5 [00:11<00:02,  2.93s/it]\u001b[A\n",
      "100%|█████████████████████████████████████████████████████████████████████| 5/5 [00:14<00:00,  2.84s/it]\u001b[A\n",
      " 56%|█████████████████████████████████████▊                              | 5/9 [08:57<07:11, 107.92s/it]\n",
      "  0%|                                                                             | 0/5 [00:00<?, ?it/s]\u001b[A\n",
      " 20%|█████████████▊                                                       | 1/5 [00:02<00:11,  2.94s/it]\u001b[A\n",
      " 40%|███████████████████████████▌                                         | 2/5 [00:05<00:07,  2.61s/it]\u001b[A\n",
      " 60%|█████████████████████████████████████████▍                           | 3/5 [00:08<00:05,  2.90s/it]\u001b[A\n",
      " 80%|███████████████████████████████████████████████████████▏             | 4/5 [00:11<00:02,  2.85s/it]\u001b[A\n",
      "100%|█████████████████████████████████████████████████████████████████████| 5/5 [00:14<00:00,  2.80s/it]\u001b[A\n",
      " 67%|█████████████████████████████████████████████▎                      | 6/9 [10:45<05:23, 107.99s/it]\n",
      "  0%|                                                                             | 0/5 [00:00<?, ?it/s]\u001b[A\n",
      " 20%|█████████████▊                                                       | 1/5 [00:03<00:12,  3.13s/it]\u001b[A\n",
      " 40%|███████████████████████████▌                                         | 2/5 [00:05<00:08,  2.67s/it]\u001b[A\n",
      " 60%|█████████████████████████████████████████▍                           | 3/5 [00:08<00:05,  2.90s/it]\u001b[A\n",
      " 80%|███████████████████████████████████████████████████████▏             | 4/5 [00:11<00:02,  2.80s/it]\u001b[A\n",
      "100%|█████████████████████████████████████████████████████████████████████| 5/5 [00:14<00:00,  2.85s/it]\u001b[A\n",
      " 78%|████████████████████████████████████████████████████▉               | 7/9 [12:32<03:35, 107.86s/it]\n",
      "  0%|                                                                             | 0/5 [00:00<?, ?it/s]\u001b[A\n",
      " 20%|█████████████▊                                                       | 1/5 [00:03<00:12,  3.01s/it]\u001b[A\n",
      " 40%|███████████████████████████▌                                         | 2/5 [00:05<00:07,  2.45s/it]\u001b[A\n",
      " 60%|█████████████████████████████████████████▍                           | 3/5 [00:07<00:05,  2.63s/it]\u001b[A\n",
      " 80%|███████████████████████████████████████████████████████▏             | 4/5 [00:10<00:02,  2.50s/it]\u001b[A\n",
      "100%|█████████████████████████████████████████████████████████████████████| 5/5 [00:12<00:00,  2.56s/it]\u001b[A\n",
      " 89%|████████████████████████████████████████████████████████████▍       | 8/9 [14:18<01:47, 107.15s/it]\n",
      "  0%|                                                                             | 0/5 [00:00<?, ?it/s]\u001b[A\n",
      " 20%|█████████████▊                                                       | 1/5 [00:02<00:11,  2.78s/it]\u001b[A\n",
      " 40%|███████████████████████████▌                                         | 2/5 [00:04<00:06,  2.29s/it]\u001b[A\n",
      " 60%|█████████████████████████████████████████▍                           | 3/5 [00:07<00:05,  2.50s/it]\u001b[A\n",
      " 80%|███████████████████████████████████████████████████████▏             | 4/5 [00:09<00:02,  2.37s/it]\u001b[A\n",
      "100%|█████████████████████████████████████████████████████████████████████| 5/5 [00:12<00:00,  2.44s/it]\u001b[A\n",
      "100%|████████████████████████████████████████████████████████████████████| 9/9 [16:02<00:00, 106.94s/it]\n"
     ]
    }
   ],
   "source": [
    "f1_list_big = []\n",
    "for p1 in tqdm(dropout_list):\n",
    "    output_name = 'decoded_spots_all_fovs_dropout_%.1f.csv'%p1\n",
    "\n",
    "    M, all_dfs, all_names = load_datasets(p1)\n",
    "    \n",
    "    f1_list = cal_F1_score_with_groundtruth(all_dfs, all_names, average_kind='weighted')\n",
    "\n",
    "    f1_list_big.append(f1_list)\n",
    "    \n",
    "f1_list_big = np.array(f1_list_big)\n"
   ]
  },
  {
   "cell_type": "code",
   "execution_count": 9,
   "id": "458c14c6",
   "metadata": {},
   "outputs": [],
   "source": [
    "np. set_printoptions (precision=2, suppress=None)\n",
    "df_f1_big_table = pd.DataFrame(f1_list_big.T, index=all_names[1:])\n",
    "df_f1_big_table.columns = [\"%.1f\"%p1 for p1 in np.arange(0, 0.85, 0.1)]"
   ]
  },
  {
   "cell_type": "code",
   "execution_count": 10,
   "id": "a9b08b9f",
   "metadata": {},
   "outputs": [
    {
     "data": {
      "text/plain": [
       "<AxesSubplot:>"
      ]
     },
     "execution_count": 10,
     "metadata": {},
     "output_type": "execute_result"
    },
    {
     "data": {
      "image/png": "[encoded data removed]",
      "text/plain": [
       "<Figure size 432x288 with 2 Axes>"
      ]
     },
     "metadata": {
      "needs_background": "light"
     },
     "output_type": "display_data"
    }
   ],
   "source": [
    "sns.heatmap(df_f1_big_table, annot=True)"
   ]
  },
  {
   "cell_type": "code",
   "execution_count": null,
   "id": "10ceb50e",
   "metadata": {},
   "outputs": [],
   "source": []
  }
 ],
 "metadata": {
  "kernelspec": {
   "display_name": "Python 3 (ipykernel)",
   "language": "python",
   "name": "python3"
  },
  "language_info": {
   "codemirror_mode": {
    "name": "ipython",
    "version": 3
   },
   "file_extension": ".py",
   "mimetype": "text/x-python",
   "name": "python",
   "nbconvert_exporter": "python",
   "pygments_lexer": "ipython3",
   "version": "3.7.11"
  }
 },
 "nbformat": 4,
 "nbformat_minor": 5
}
