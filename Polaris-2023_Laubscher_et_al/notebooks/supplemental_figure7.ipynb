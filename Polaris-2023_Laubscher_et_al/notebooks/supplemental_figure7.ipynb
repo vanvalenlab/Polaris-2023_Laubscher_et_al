{
 "cells": [
  {
   "cell_type": "code",
   "execution_count": 1,
   "id": "5cef55c1",
   "metadata": {},
   "outputs": [],
   "source": [
    "import os\n",
    "import numpy as np\n",
    "import pandas as pd\n",
    "import seaborn as sns\n",
    "import matplotlib.pyplot as plt\n",
    "\n",
    "from tqdm import tqdm\n",
    "from sklearn.metrics import  f1_score\n",
    "\n",
    "from dataset import PolarisPublicationData"
   ]
  },
  {
   "cell_type": "code",
   "execution_count": 2,
   "id": "b2077b97-63ff-4e03-b84f-6259fc671fe4",
   "metadata": {},
   "outputs": [],
   "source": [
    "def calc_F1(data, average_kind='weighted'):\n",
    "    f1_score_list = []\n",
    "    n_decoders = data.shape[1]\n",
    "    for i in tqdm(range(2, n_decoders)):\n",
    "        decoder = data.columns[i]\n",
    "        gt = np.array(data.GT_id).astype(int)\n",
    "        results = np.array(data[decoder]).astype(int)\n",
    "        score = f1_score(gt, results, average=average_kind)\n",
    "        f1_score_list.append(score)\n",
    "    \n",
    "    return f1_score_list"
   ]
  },
  {
   "cell_type": "code",
   "execution_count": 3,
   "id": "48ce38b3-a16b-49f9-a482-9651c539c442",
   "metadata": {},
   "outputs": [],
   "source": [
    "data = PolarisPublicationData()"
   ]
  },
  {
   "cell_type": "code",
   "execution_count": 4,
   "id": "bf9f97ff-b9c4-4766-a16d-4d7a5066a448",
   "metadata": {},
   "outputs": [],
   "source": [
    "all_data = data.load_data(figure='S7')"
   ]
  },
  {
   "cell_type": "code",
   "execution_count": 5,
   "id": "f15fd2f8",
   "metadata": {},
   "outputs": [],
   "source": [
    "# all_data.dropout_rate = np.round(all_data.dropout_rate, 1)"
   ]
  },
  {
   "cell_type": "code",
   "execution_count": 6,
   "id": "77ee3180",
   "metadata": {},
   "outputs": [],
   "source": [
    "dropout_list = [0, 0.1, 0.2, 0.3, 0.4, 0.5]"
   ]
  },
  {
   "cell_type": "code",
   "execution_count": 7,
   "id": "5afb0afb-c6d0-44e0-b5ef-7d09ff8805c0",
   "metadata": {},
   "outputs": [
    {
     "name": "stderr",
     "output_type": "stream",
     "text": [
      "100%|█████████████████████████████████████████████| 4/4 [00:07<00:00,  1.85s/it]\n",
      "100%|█████████████████████████████████████████████| 4/4 [00:08<00:00,  2.10s/it]\n",
      "100%|█████████████████████████████████████████████| 4/4 [00:09<00:00,  2.31s/it]\n",
      "100%|█████████████████████████████████████████████| 4/4 [00:09<00:00,  2.44s/it]\n",
      "100%|█████████████████████████████████████████████| 4/4 [00:10<00:00,  2.55s/it]\n",
      "100%|█████████████████████████████████████████████| 4/4 [00:10<00:00,  2.57s/it]\n"
     ]
    }
   ],
   "source": [
    "results = pd.DataFrame(columns=[['decoder'] + list(np.round(dropout_list, 1))])\n",
    "results['decoder'] = ['Relaxed Bernoulli', 'Multivariate Normal', 'Distance Matching', 'PoSTcode']\n",
    "for val in dropout_list:\n",
    "#     val = np.round(val, 1)\n",
    "    data = all_data.loc[all_data.dropout_rate==val]\n",
    "    results[val] = calc_F1(data)"
   ]
  },
  {
   "cell_type": "code",
   "execution_count": 8,
   "id": "a707ab89-f7be-4e5a-8aaf-7888975ed76b",
   "metadata": {},
   "outputs": [
    {
     "data": {
      "text/html": [
       "<div>\n",
       "<style scoped>\n",
       "    .dataframe tbody tr th:only-of-type {\n",
       "        vertical-align: middle;\n",
       "    }\n",
       "\n",
       "    .dataframe tbody tr th {\n",
       "        vertical-align: top;\n",
       "    }\n",
       "\n",
       "    .dataframe thead tr th {\n",
       "        text-align: left;\n",
       "    }\n",
       "</style>\n",
       "<table border=\"1\" class=\"dataframe\">\n",
       "  <thead>\n",
       "    <tr>\n",
       "      <th></th>\n",
       "      <th>decoder</th>\n",
       "      <th>0.0</th>\n",
       "      <th>0.1</th>\n",
       "      <th>0.2</th>\n",
       "      <th>0.3</th>\n",
       "      <th>0.4</th>\n",
       "      <th>0.5</th>\n",
       "    </tr>\n",
       "  </thead>\n",
       "  <tbody>\n",
       "    <tr>\n",
       "      <th>0</th>\n",
       "      <td>Relaxed Bernoulli</td>\n",
       "      <td>0.999962</td>\n",
       "      <td>0.976321</td>\n",
       "      <td>0.927162</td>\n",
       "      <td>0.857103</td>\n",
       "      <td>0.760570</td>\n",
       "      <td>0.627553</td>\n",
       "    </tr>\n",
       "    <tr>\n",
       "      <th>1</th>\n",
       "      <td>Multivariate Normal</td>\n",
       "      <td>0.984619</td>\n",
       "      <td>0.847927</td>\n",
       "      <td>0.698018</td>\n",
       "      <td>0.544605</td>\n",
       "      <td>0.375801</td>\n",
       "      <td>0.242614</td>\n",
       "    </tr>\n",
       "    <tr>\n",
       "      <th>2</th>\n",
       "      <td>Distance Matching</td>\n",
       "      <td>0.999968</td>\n",
       "      <td>0.965086</td>\n",
       "      <td>0.885501</td>\n",
       "      <td>0.772886</td>\n",
       "      <td>0.635086</td>\n",
       "      <td>0.479679</td>\n",
       "    </tr>\n",
       "    <tr>\n",
       "      <th>3</th>\n",
       "      <td>PoSTcode</td>\n",
       "      <td>0.928521</td>\n",
       "      <td>0.794819</td>\n",
       "      <td>0.669966</td>\n",
       "      <td>0.550675</td>\n",
       "      <td>0.452291</td>\n",
       "      <td>0.359023</td>\n",
       "    </tr>\n",
       "  </tbody>\n",
       "</table>\n",
       "</div>"
      ],
      "text/plain": [
       "               decoder       0.0       0.1       0.2       0.3       0.4  \\\n",
       "0    Relaxed Bernoulli  0.999962  0.976321  0.927162  0.857103  0.760570   \n",
       "1  Multivariate Normal  0.984619  0.847927  0.698018  0.544605  0.375801   \n",
       "2    Distance Matching  0.999968  0.965086  0.885501  0.772886  0.635086   \n",
       "3             PoSTcode  0.928521  0.794819  0.669966  0.550675  0.452291   \n",
       "\n",
       "        0.5  \n",
       "0  0.627553  \n",
       "1  0.242614  \n",
       "2  0.479679  \n",
       "3  0.359023  "
      ]
     },
     "execution_count": 8,
     "metadata": {},
     "output_type": "execute_result"
    }
   ],
   "source": [
    "results"
   ]
  },
  {
   "cell_type": "code",
   "execution_count": 9,
   "id": "a9b08b9f",
   "metadata": {},
   "outputs": [
    {
     "data": {
      "image/png": "[encoded data removed]",
      "text/plain": [
       "<Figure size 1152x576 with 2 Axes>"
      ]
     },
     "metadata": {
      "needs_background": "light"
     },
     "output_type": "display_data"
    }
   ],
   "source": [
    "fig,ax = plt.subplots(figsize=(16,8))\n",
    "p = sns.heatmap(results.iloc[:,1:], annot=True, ax=ax,\n",
    "                cbar_kws={'label': 'F1 score'},\n",
    "                annot_kws={'fontsize': 16})\n",
    "p.set_yticklabels(['Relaxed Bernoulli',\n",
    "                   'Multivariate Normal',\n",
    "                   'Distance Matching',\n",
    "                   'PoSTcode'])\n",
    "p.set(xlabel='Fraction of spots dropped out')\n",
    "plt.show()"
   ]
  },
  {
   "cell_type": "code",
   "execution_count": null,
   "id": "d6154c65-1138-4212-9d1c-9bbabaa76301",
   "metadata": {},
   "outputs": [],
   "source": []
  }
 ],
 "metadata": {
  "kernelspec": {
   "display_name": "Python 3 (ipykernel)",
   "language": "python",
   "name": "python3"
  },
  "language_info": {
   "codemirror_mode": {
    "name": "ipython",
    "version": 3
   },
   "file_extension": ".py",
   "mimetype": "text/x-python",
   "name": "python",
   "nbconvert_exporter": "python",
   "pygments_lexer": "ipython3",
   "version": "3.8.10"
  }
 },
 "nbformat": 4,
 "nbformat_minor": 5
}
