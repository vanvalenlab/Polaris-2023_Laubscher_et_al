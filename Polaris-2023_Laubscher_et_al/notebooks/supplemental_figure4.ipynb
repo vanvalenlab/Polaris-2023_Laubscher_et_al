{
 "cells": [
  {
   "cell_type": "code",
   "execution_count": 1,
   "id": "099c501e",
   "metadata": {},
   "outputs": [],
   "source": [
    "import glob\n",
    "import numpy as np\n",
    "from dataset import PolarisPublicationData"
   ]
  },
  {
   "cell_type": "code",
   "execution_count": 2,
   "id": "a4f2a27c-df75-4b2c-aa2b-22f9e069eca6",
   "metadata": {},
   "outputs": [],
   "source": [
    "data = PolarisPublicationData()"
   ]
  },
  {
   "cell_type": "code",
   "execution_count": 3,
   "id": "407857d3-28ea-481c-b0ce-eb12a6b04cc7",
   "metadata": {},
   "outputs": [],
   "source": [
    "all_coords = data.load_data(figure='S4')"
   ]
  },
  {
   "cell_type": "code",
   "execution_count": 4,
   "id": "3990b162",
   "metadata": {},
   "outputs": [
    {
     "data": {
      "text/plain": [
       "(100,)"
      ]
     },
     "execution_count": 4,
     "metadata": {},
     "output_type": "execute_result"
    }
   ],
   "source": [
    "PLM_coords = all_coords['PLM']\n",
    "trackpy_coords = all_coords['trackpy']\n",
    "DoG_coords = all_coords['DoG']\n",
    "LoG_coords = all_coords['LoG']\n",
    "Polaris_coords = all_coords['polaris']\n",
    "airloc_coords = all_coords['airloc']\n",
    "PLM_coords.shape"
   ]
  },
  {
   "cell_type": "code",
   "execution_count": 5,
   "id": "207c7a76",
   "metadata": {},
   "outputs": [
    {
     "name": "stderr",
     "output_type": "stream",
     "text": [
      "/usr/local/lib/python3.8/dist-packages/keras/optimizer_v2/gradient_descent.py:102: UserWarning: The `lr` argument is deprecated, use `learning_rate` instead.\n",
      "  super(SGD, self).__init__(name, **kwargs)\n"
     ]
    }
   ],
   "source": [
    "from deepcell_spots.point_metrics import *\n",
    "\n",
    "coords_all = [PLM_coords,trackpy_coords,LoG_coords,DoG_coords,airloc_coords,Polaris_coords]\n",
    "\n",
    "agreement_matrix = np.zeros((len(coords_all),len(coords_all),len(coords_all[0])))\n",
    "\n",
    "for i in range(len(coords_all)):\n",
    "    agreement_matrix[i,i] = 1\n",
    "    for ii in range(i+1,len(coords_all)):\n",
    "        f1_score = []\n",
    "        for ind in range(len(coords_all[i])):\n",
    "            if len(coords_all[i][ind])==0 or len(coords_all[ii][ind])==0:\n",
    "                f1_score.append(0)\n",
    "                continue\n",
    "            matched_points = match_points_mutual_nearest_neighbor(coords_all[i][ind],\n",
    "                                                                  coords_all[ii][ind],\n",
    "                                                                  threshold=1)\n",
    "            match_vals = len(matched_points[0])\n",
    "            unmatch_vals = (len(coords_all[i][ind])-len(matched_points[0])) + (len(coords_all[ii][ind])-len(matched_points[1]))\n",
    "            f1_score.append(match_vals / (match_vals + unmatch_vals/2))\n",
    "        agreement_matrix[i,ii,:] = f1_score\n",
    "        agreement_matrix[ii,i,:] = f1_score"
   ]
  },
  {
   "cell_type": "code",
   "execution_count": 6,
   "id": "6637d9aa",
   "metadata": {},
   "outputs": [],
   "source": [
    "mean_agreement_matrix = np.zeros((len(coords_all),len(coords_all)))\n",
    "\n",
    "for i in range(len(coords_all)):\n",
    "    for ii in range(len(coords_all)):\n",
    "        mean_agreement_matrix[i,ii] = np.mean(agreement_matrix[i,ii])\n",
    "        mean_agreement_matrix[ii,i] = np.mean(agreement_matrix[i,ii])"
   ]
  },
  {
   "cell_type": "code",
   "execution_count": 7,
   "id": "6bebb048",
   "metadata": {},
   "outputs": [
    {
     "data": {
      "image/png": "[encoded data removed]",
      "text/plain": [
       "<Figure size 432x288 with 2 Axes>"
      ]
     },
     "metadata": {
      "needs_background": "light"
     },
     "output_type": "display_data"
    }
   ],
   "source": [
    "import matplotlib.pyplot as plt\n",
    "\n",
    "fig,ax = plt.subplots()\n",
    "\n",
    "im = ax.matshow(mean_agreement_matrix, cmap=plt.cm.magma)\n",
    "\n",
    "ax.set_xticks([0,1,2,3,4,5])\n",
    "ax.set_xticklabels(['PLM','trackpy','LoG','DoG','Airlocalize','Polaris'])\n",
    "ax.set_yticks([0,1,2,3,4,5])\n",
    "ax.set_yticklabels(['PLM','trackpy','LoG','DoG','Airlocalize','Polaris'])\n",
    "\n",
    "cbar = ax.figure.colorbar(im)\n",
    "cbar.ax.set_ylabel('F1 score', rotation=-90, va=\"bottom\")\n",
    "\n",
    "plt.show()"
   ]
  },
  {
   "cell_type": "code",
   "execution_count": 8,
   "id": "a8594aa7",
   "metadata": {},
   "outputs": [
    {
     "data": {
      "text/plain": [
       "array([[1.        , 0.4122438 , 0.60374682, 0.54676304, 0.51416542,\n",
       "        0.65404877],\n",
       "       [0.4122438 , 1.        , 0.37528054, 0.38849871, 0.31258284,\n",
       "        0.63069945],\n",
       "       [0.60374682, 0.37528054, 1.        , 0.78914284, 0.59431091,\n",
       "        0.68114574],\n",
       "       [0.54676304, 0.38849871, 0.78914284, 1.        , 0.61886319,\n",
       "        0.66248215],\n",
       "       [0.51416542, 0.31258284, 0.59431091, 0.61886319, 1.        ,\n",
       "        0.75704903],\n",
       "       [0.65404877, 0.63069945, 0.68114574, 0.66248215, 0.75704903,\n",
       "        1.        ]])"
      ]
     },
     "execution_count": 8,
     "metadata": {},
     "output_type": "execute_result"
    }
   ],
   "source": [
    "mean_agreement_matrix"
   ]
  },
  {
   "cell_type": "code",
   "execution_count": null,
   "id": "c9d60fac",
   "metadata": {},
   "outputs": [],
   "source": []
  }
 ],
 "metadata": {
  "kernelspec": {
   "display_name": "Python 3 (ipykernel)",
   "language": "python",
   "name": "python3"
  },
  "language_info": {
   "codemirror_mode": {
    "name": "ipython",
    "version": 3
   },
   "file_extension": ".py",
   "mimetype": "text/x-python",
   "name": "python",
   "nbconvert_exporter": "python",
   "pygments_lexer": "ipython3",
   "version": "3.8.10"
  }
 },
 "nbformat": 4,
 "nbformat_minor": 5
}
