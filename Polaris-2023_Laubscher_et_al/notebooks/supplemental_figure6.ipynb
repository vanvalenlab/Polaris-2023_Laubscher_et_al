{
 "cells": [
  {
   "cell_type": "code",
   "execution_count": 1,
   "id": "868beded",
   "metadata": {},
   "outputs": [
    {
     "name": "stderr",
     "output_type": "stream",
     "text": [
      "/usr/local/lib/python3.8/dist-packages/keras/optimizer_v2/gradient_descent.py:102: UserWarning: The `lr` argument is deprecated, use `learning_rate` instead.\n",
      "  super(SGD, self).__init__(name, **kwargs)\n"
     ]
    }
   ],
   "source": [
    "import glob\n",
    "from tqdm import tqdm\n",
    "import numpy as np\n",
    "import matplotlib.pyplot as plt\n",
    "import pandas as pd\n",
    "\n",
    "from deepcell_spots.dotnet import dot_net_2D\n",
    "from tensorflow.keras.optimizers import SGD\n",
    "from deepcell_spots import dotnet_losses\n",
    "\n",
    "from deepcell_spots.postprocessing_utils import y_annotations_to_point_list_max\n",
    "from deepcell_spots.point_metrics import stats_points, match_points_mutual_nearest_neighbor"
   ]
  },
  {
   "cell_type": "code",
   "execution_count": 2,
   "id": "ce6f8d63",
   "metadata": {},
   "outputs": [
    {
     "data": {
      "text/plain": [
       "['/data/users/emily/models/conv_dots_model_plm.h5']"
      ]
     },
     "execution_count": 2,
     "metadata": {},
     "output_type": "execute_result"
    }
   ],
   "source": [
    "model_dir = '../data/models/'\n",
    "\n",
    "plm_weights_file = glob.glob(model_dir + '*plm*.h5')\n",
    "log_weights_file = glob.glob(model_dir + '*log*.h5')\n",
    "dog_weights_file = glob.glob(model_dir + '*dog*.h5')\n",
    "sim_weights_file = glob.glob(model_dir + '*sim*.h5')\n",
    "trackpy_weights_file = glob.glob(model_dir + '*trackpy*.h5')\n",
    "em_weights_file = glob.glob(model_dir + '*em*.h5')\n",
    "plm_weights_file"
   ]
  },
  {
   "cell_type": "code",
   "execution_count": 3,
   "id": "77951b5b",
   "metadata": {},
   "outputs": [],
   "source": [
    "norm_method = None  # data normalization - options are: 'std','max', None, 'whole_image'\n",
    "receptive_field = 13  # should be adjusted for the scale of the data\n",
    "n_skips = 3  # number of skip-connections (only for FC training)\n",
    "optimizer = SGD(lr=0.01, decay=1e-6, momentum=0.9, nesterov=True)"
   ]
  },
  {
   "cell_type": "code",
   "execution_count": 4,
   "id": "3cd34b2a",
   "metadata": {},
   "outputs": [],
   "source": [
    "sigma=3.0\n",
    "alpha=0.25\n",
    "gamma=0.5\n",
    "focal=False\n",
    "\n",
    "dotnet_losses = dotnet_losses.DotNetLosses(sigma=sigma, alpha=alpha, gamma=gamma, focal=focal)\n",
    "\n",
    "loss = {\n",
    "    'offset_regression': dotnet_losses.regression_loss,\n",
    "    'classification': dotnet_losses.classification_loss\n",
    "}\n",
    "\n",
    "loss_weights = {\"offset_regression\": 1.0, \"classification\": 1.0}"
   ]
  },
  {
   "cell_type": "code",
   "execution_count": 5,
   "id": "6070b06f",
   "metadata": {},
   "outputs": [
    {
     "name": "stderr",
     "output_type": "stream",
     "text": [
      "2022-10-27 19:59:09.859109: W tensorflow/python/util/util.cc:368] Sets are not currently considered sequences, but this may change in the future, so consider avoiding using them.\n",
      "2022-10-27 19:59:09.886617: I tensorflow/core/platform/cpu_feature_guard.cc:151] This TensorFlow binary is optimized with oneAPI Deep Neural Network Library (oneDNN) to use the following CPU instructions in performance-critical operations:  AVX2 FMA\n",
      "To enable them in other operations, rebuild TensorFlow with the appropriate compiler flags.\n",
      "2022-10-27 19:59:10.556261: I tensorflow/core/common_runtime/gpu/gpu_device.cc:1525] Created device /job:localhost/replica:0/task:0/device:GPU:0 with 10415 MB memory:  -> device: 0, name: NVIDIA GeForce GTX 1080 Ti, pci bus id: 0000:06:00.0, compute capability: 6.1\n"
     ]
    }
   ],
   "source": [
    "sim_model = dot_net_2D(receptive_field=receptive_field,\n",
    "               input_shape=(128,128,1),\n",
    "               inputs=None,\n",
    "               n_skips=n_skips,\n",
    "               norm_method=norm_method,\n",
    "               padding_mode='reflect')\n",
    "\n",
    "sim_model.compile(loss=loss, loss_weights=loss_weights, optimizer=optimizer, metrics=['accuracy'])\n",
    "sim_model.load_weights(sim_weights_file[0])"
   ]
  },
  {
   "cell_type": "code",
   "execution_count": 6,
   "id": "6f2625da",
   "metadata": {},
   "outputs": [],
   "source": [
    "em_model = dot_net_2D(receptive_field=receptive_field,\n",
    "               input_shape=(128,128,1),\n",
    "               inputs=None,\n",
    "               n_skips=n_skips,\n",
    "               norm_method=norm_method,\n",
    "               padding_mode='reflect')\n",
    "\n",
    "em_model.compile(loss=loss, loss_weights=loss_weights, optimizer=optimizer, metrics=['accuracy'])\n",
    "em_model.load_weights(em_weights_file[0])"
   ]
  },
  {
   "cell_type": "code",
   "execution_count": 7,
   "id": "424c21de",
   "metadata": {},
   "outputs": [],
   "source": [
    "plm_model = dot_net_2D(receptive_field=receptive_field,\n",
    "               input_shape=(128,128,1),\n",
    "               inputs=None,\n",
    "               n_skips=n_skips,\n",
    "               norm_method=norm_method,\n",
    "               padding_mode='reflect')\n",
    "\n",
    "plm_model.compile(loss=loss, loss_weights=loss_weights, optimizer=optimizer, metrics=['accuracy'])\n",
    "plm_model.load_weights(plm_weights_file[0])"
   ]
  },
  {
   "cell_type": "code",
   "execution_count": 8,
   "id": "cd3e606e",
   "metadata": {},
   "outputs": [],
   "source": [
    "log_model = dot_net_2D(receptive_field=receptive_field,\n",
    "               input_shape=(128,128,1),\n",
    "               inputs=None,\n",
    "               n_skips=n_skips,\n",
    "               norm_method=norm_method,\n",
    "               padding_mode='reflect')\n",
    "\n",
    "log_model.compile(loss=loss, loss_weights=loss_weights, optimizer=optimizer, metrics=['accuracy'])\n",
    "log_model.load_weights(log_weights_file[0])"
   ]
  },
  {
   "cell_type": "code",
   "execution_count": 9,
   "id": "6be150b3",
   "metadata": {},
   "outputs": [],
   "source": [
    "dog_model = dot_net_2D(receptive_field=receptive_field,\n",
    "               input_shape=(128,128,1),\n",
    "               inputs=None,\n",
    "               n_skips=n_skips,\n",
    "               norm_method=norm_method,\n",
    "               padding_mode='reflect')\n",
    "\n",
    "dog_model.compile(loss=loss, loss_weights=loss_weights, optimizer=optimizer, metrics=['accuracy'])\n",
    "dog_model.load_weights(dog_weights_file[0])"
   ]
  },
  {
   "cell_type": "code",
   "execution_count": 10,
   "id": "e92b87c2",
   "metadata": {},
   "outputs": [],
   "source": [
    "trackpy_model = dot_net_2D(receptive_field=receptive_field,\n",
    "               input_shape=(128,128,1),\n",
    "               inputs=None,\n",
    "               n_skips=n_skips,\n",
    "               norm_method=norm_method,\n",
    "               padding_mode='reflect')\n",
    "\n",
    "trackpy_model.compile(loss=loss, loss_weights=loss_weights, optimizer=optimizer, metrics=['accuracy'])\n",
    "trackpy_model.load_weights(trackpy_weights_file[0])"
   ]
  },
  {
   "cell_type": "code",
   "execution_count": 11,
   "id": "91b011bf",
   "metadata": {
    "scrolled": true
   },
   "outputs": [
    {
     "name": "stderr",
     "output_type": "stream",
     "text": [
      "  0%|                                                                                                                                  | 0/6 [00:00<?, ?it/s]2022-10-27 19:59:17.559727: I tensorflow/stream_executor/cuda/cuda_dnn.cc:368] Loaded cuDNN version 8100\n",
      "/usr/local/lib/python3.8/dist-packages/deepcell_spots/postprocessing_utils.py:147: VisibleDeprecationWarning: Creating an ndarray from ragged nested sequences (which is a list-or-tuple of lists-or-tuples-or ndarrays with different lengths or shapes) is deprecated. If you meant to do this, you must specify 'dtype=object' when creating the ndarray.\n",
      "  return np.array(dot_centers)\n",
      "/usr/local/lib/python3.8/dist-packages/deepcell_spots/postprocessing_utils.py:147: VisibleDeprecationWarning: Creating an ndarray from ragged nested sequences (which is a list-or-tuple of lists-or-tuples-or ndarrays with different lengths or shapes) is deprecated. If you meant to do this, you must specify 'dtype=object' when creating the ndarray.\n",
      "  return np.array(dot_centers)\n",
      "/usr/local/lib/python3.8/dist-packages/deepcell_spots/postprocessing_utils.py:147: VisibleDeprecationWarning: Creating an ndarray from ragged nested sequences (which is a list-or-tuple of lists-or-tuples-or ndarrays with different lengths or shapes) is deprecated. If you meant to do this, you must specify 'dtype=object' when creating the ndarray.\n",
      "  return np.array(dot_centers)\n",
      "/usr/local/lib/python3.8/dist-packages/deepcell_spots/postprocessing_utils.py:147: VisibleDeprecationWarning: Creating an ndarray from ragged nested sequences (which is a list-or-tuple of lists-or-tuples-or ndarrays with different lengths or shapes) is deprecated. If you meant to do this, you must specify 'dtype=object' when creating the ndarray.\n",
      "  return np.array(dot_centers)\n",
      "/usr/local/lib/python3.8/dist-packages/deepcell_spots/postprocessing_utils.py:147: VisibleDeprecationWarning: Creating an ndarray from ragged nested sequences (which is a list-or-tuple of lists-or-tuples-or ndarrays with different lengths or shapes) is deprecated. If you meant to do this, you must specify 'dtype=object' when creating the ndarray.\n",
      "  return np.array(dot_centers)\n",
      "/usr/local/lib/python3.8/dist-packages/deepcell_spots/postprocessing_utils.py:147: VisibleDeprecationWarning: Creating an ndarray from ragged nested sequences (which is a list-or-tuple of lists-or-tuples-or ndarrays with different lengths or shapes) is deprecated. If you meant to do this, you must specify 'dtype=object' when creating the ndarray.\n",
      "  return np.array(dot_centers)\n",
      " 17%|████████████████████▎                                                                                                     | 1/6 [00:15<01:16, 15.34s/it]/usr/local/lib/python3.8/dist-packages/deepcell_spots/postprocessing_utils.py:147: VisibleDeprecationWarning: Creating an ndarray from ragged nested sequences (which is a list-or-tuple of lists-or-tuples-or ndarrays with different lengths or shapes) is deprecated. If you meant to do this, you must specify 'dtype=object' when creating the ndarray.\n",
      "  return np.array(dot_centers)\n",
      "/usr/local/lib/python3.8/dist-packages/deepcell_spots/postprocessing_utils.py:147: VisibleDeprecationWarning: Creating an ndarray from ragged nested sequences (which is a list-or-tuple of lists-or-tuples-or ndarrays with different lengths or shapes) is deprecated. If you meant to do this, you must specify 'dtype=object' when creating the ndarray.\n",
      "  return np.array(dot_centers)\n",
      "/usr/local/lib/python3.8/dist-packages/deepcell_spots/postprocessing_utils.py:147: VisibleDeprecationWarning: Creating an ndarray from ragged nested sequences (which is a list-or-tuple of lists-or-tuples-or ndarrays with different lengths or shapes) is deprecated. If you meant to do this, you must specify 'dtype=object' when creating the ndarray.\n",
      "  return np.array(dot_centers)\n",
      "/usr/local/lib/python3.8/dist-packages/deepcell_spots/postprocessing_utils.py:147: VisibleDeprecationWarning: Creating an ndarray from ragged nested sequences (which is a list-or-tuple of lists-or-tuples-or ndarrays with different lengths or shapes) is deprecated. If you meant to do this, you must specify 'dtype=object' when creating the ndarray.\n",
      "  return np.array(dot_centers)\n",
      "/usr/local/lib/python3.8/dist-packages/deepcell_spots/postprocessing_utils.py:147: VisibleDeprecationWarning: Creating an ndarray from ragged nested sequences (which is a list-or-tuple of lists-or-tuples-or ndarrays with different lengths or shapes) is deprecated. If you meant to do this, you must specify 'dtype=object' when creating the ndarray.\n",
      "  return np.array(dot_centers)\n",
      "/usr/local/lib/python3.8/dist-packages/deepcell_spots/postprocessing_utils.py:147: VisibleDeprecationWarning: Creating an ndarray from ragged nested sequences (which is a list-or-tuple of lists-or-tuples-or ndarrays with different lengths or shapes) is deprecated. If you meant to do this, you must specify 'dtype=object' when creating the ndarray.\n",
      "  return np.array(dot_centers)\n",
      " 33%|████████████████████████████████████████▋                                                                                 | 2/6 [00:25<00:49, 12.50s/it]/usr/local/lib/python3.8/dist-packages/deepcell_spots/postprocessing_utils.py:147: VisibleDeprecationWarning: Creating an ndarray from ragged nested sequences (which is a list-or-tuple of lists-or-tuples-or ndarrays with different lengths or shapes) is deprecated. If you meant to do this, you must specify 'dtype=object' when creating the ndarray.\n",
      "  return np.array(dot_centers)\n",
      "/usr/local/lib/python3.8/dist-packages/deepcell_spots/postprocessing_utils.py:147: VisibleDeprecationWarning: Creating an ndarray from ragged nested sequences (which is a list-or-tuple of lists-or-tuples-or ndarrays with different lengths or shapes) is deprecated. If you meant to do this, you must specify 'dtype=object' when creating the ndarray.\n",
      "  return np.array(dot_centers)\n",
      "/usr/local/lib/python3.8/dist-packages/deepcell_spots/postprocessing_utils.py:147: VisibleDeprecationWarning: Creating an ndarray from ragged nested sequences (which is a list-or-tuple of lists-or-tuples-or ndarrays with different lengths or shapes) is deprecated. If you meant to do this, you must specify 'dtype=object' when creating the ndarray.\n",
      "  return np.array(dot_centers)\n",
      "/usr/local/lib/python3.8/dist-packages/deepcell_spots/postprocessing_utils.py:147: VisibleDeprecationWarning: Creating an ndarray from ragged nested sequences (which is a list-or-tuple of lists-or-tuples-or ndarrays with different lengths or shapes) is deprecated. If you meant to do this, you must specify 'dtype=object' when creating the ndarray.\n",
      "  return np.array(dot_centers)\n",
      "/usr/local/lib/python3.8/dist-packages/deepcell_spots/postprocessing_utils.py:147: VisibleDeprecationWarning: Creating an ndarray from ragged nested sequences (which is a list-or-tuple of lists-or-tuples-or ndarrays with different lengths or shapes) is deprecated. If you meant to do this, you must specify 'dtype=object' when creating the ndarray.\n",
      "  return np.array(dot_centers)\n",
      "/usr/local/lib/python3.8/dist-packages/deepcell_spots/postprocessing_utils.py:147: VisibleDeprecationWarning: Creating an ndarray from ragged nested sequences (which is a list-or-tuple of lists-or-tuples-or ndarrays with different lengths or shapes) is deprecated. If you meant to do this, you must specify 'dtype=object' when creating the ndarray.\n",
      "  return np.array(dot_centers)\n",
      " 50%|█████████████████████████████████████████████████████████████                                                             | 3/6 [00:37<00:35, 11.92s/it]/usr/local/lib/python3.8/dist-packages/deepcell_spots/postprocessing_utils.py:147: VisibleDeprecationWarning: Creating an ndarray from ragged nested sequences (which is a list-or-tuple of lists-or-tuples-or ndarrays with different lengths or shapes) is deprecated. If you meant to do this, you must specify 'dtype=object' when creating the ndarray.\n",
      "  return np.array(dot_centers)\n",
      "/usr/local/lib/python3.8/dist-packages/deepcell_spots/postprocessing_utils.py:147: VisibleDeprecationWarning: Creating an ndarray from ragged nested sequences (which is a list-or-tuple of lists-or-tuples-or ndarrays with different lengths or shapes) is deprecated. If you meant to do this, you must specify 'dtype=object' when creating the ndarray.\n",
      "  return np.array(dot_centers)\n"
     ]
    },
    {
     "name": "stderr",
     "output_type": "stream",
     "text": [
      "/usr/local/lib/python3.8/dist-packages/deepcell_spots/postprocessing_utils.py:147: VisibleDeprecationWarning: Creating an ndarray from ragged nested sequences (which is a list-or-tuple of lists-or-tuples-or ndarrays with different lengths or shapes) is deprecated. If you meant to do this, you must specify 'dtype=object' when creating the ndarray.\n",
      "  return np.array(dot_centers)\n",
      "/usr/local/lib/python3.8/dist-packages/deepcell_spots/postprocessing_utils.py:147: VisibleDeprecationWarning: Creating an ndarray from ragged nested sequences (which is a list-or-tuple of lists-or-tuples-or ndarrays with different lengths or shapes) is deprecated. If you meant to do this, you must specify 'dtype=object' when creating the ndarray.\n",
      "  return np.array(dot_centers)\n",
      "/usr/local/lib/python3.8/dist-packages/deepcell_spots/postprocessing_utils.py:147: VisibleDeprecationWarning: Creating an ndarray from ragged nested sequences (which is a list-or-tuple of lists-or-tuples-or ndarrays with different lengths or shapes) is deprecated. If you meant to do this, you must specify 'dtype=object' when creating the ndarray.\n",
      "  return np.array(dot_centers)\n",
      "/usr/local/lib/python3.8/dist-packages/deepcell_spots/postprocessing_utils.py:147: VisibleDeprecationWarning: Creating an ndarray from ragged nested sequences (which is a list-or-tuple of lists-or-tuples-or ndarrays with different lengths or shapes) is deprecated. If you meant to do this, you must specify 'dtype=object' when creating the ndarray.\n",
      "  return np.array(dot_centers)\n",
      " 67%|█████████████████████████████████████████████████████████████████████████████████▎                                        | 4/6 [00:48<00:23, 11.80s/it]/usr/local/lib/python3.8/dist-packages/deepcell_spots/postprocessing_utils.py:147: VisibleDeprecationWarning: Creating an ndarray from ragged nested sequences (which is a list-or-tuple of lists-or-tuples-or ndarrays with different lengths or shapes) is deprecated. If you meant to do this, you must specify 'dtype=object' when creating the ndarray.\n",
      "  return np.array(dot_centers)\n",
      "/usr/local/lib/python3.8/dist-packages/deepcell_spots/postprocessing_utils.py:147: VisibleDeprecationWarning: Creating an ndarray from ragged nested sequences (which is a list-or-tuple of lists-or-tuples-or ndarrays with different lengths or shapes) is deprecated. If you meant to do this, you must specify 'dtype=object' when creating the ndarray.\n",
      "  return np.array(dot_centers)\n",
      "/usr/local/lib/python3.8/dist-packages/deepcell_spots/postprocessing_utils.py:147: VisibleDeprecationWarning: Creating an ndarray from ragged nested sequences (which is a list-or-tuple of lists-or-tuples-or ndarrays with different lengths or shapes) is deprecated. If you meant to do this, you must specify 'dtype=object' when creating the ndarray.\n",
      "  return np.array(dot_centers)\n",
      "/usr/local/lib/python3.8/dist-packages/deepcell_spots/postprocessing_utils.py:147: VisibleDeprecationWarning: Creating an ndarray from ragged nested sequences (which is a list-or-tuple of lists-or-tuples-or ndarrays with different lengths or shapes) is deprecated. If you meant to do this, you must specify 'dtype=object' when creating the ndarray.\n",
      "  return np.array(dot_centers)\n",
      "/usr/local/lib/python3.8/dist-packages/deepcell_spots/postprocessing_utils.py:147: VisibleDeprecationWarning: Creating an ndarray from ragged nested sequences (which is a list-or-tuple of lists-or-tuples-or ndarrays with different lengths or shapes) is deprecated. If you meant to do this, you must specify 'dtype=object' when creating the ndarray.\n",
      "  return np.array(dot_centers)\n",
      "/usr/local/lib/python3.8/dist-packages/deepcell_spots/postprocessing_utils.py:147: VisibleDeprecationWarning: Creating an ndarray from ragged nested sequences (which is a list-or-tuple of lists-or-tuples-or ndarrays with different lengths or shapes) is deprecated. If you meant to do this, you must specify 'dtype=object' when creating the ndarray.\n",
      "  return np.array(dot_centers)\n",
      " 83%|█████████████████████████████████████████████████████████████████████████████████████████████████████▋                    | 5/6 [01:00<00:11, 11.69s/it]/usr/local/lib/python3.8/dist-packages/deepcell_spots/postprocessing_utils.py:147: VisibleDeprecationWarning: Creating an ndarray from ragged nested sequences (which is a list-or-tuple of lists-or-tuples-or ndarrays with different lengths or shapes) is deprecated. If you meant to do this, you must specify 'dtype=object' when creating the ndarray.\n",
      "  return np.array(dot_centers)\n",
      "/usr/local/lib/python3.8/dist-packages/deepcell_spots/postprocessing_utils.py:147: VisibleDeprecationWarning: Creating an ndarray from ragged nested sequences (which is a list-or-tuple of lists-or-tuples-or ndarrays with different lengths or shapes) is deprecated. If you meant to do this, you must specify 'dtype=object' when creating the ndarray.\n",
      "  return np.array(dot_centers)\n",
      "/usr/local/lib/python3.8/dist-packages/deepcell_spots/postprocessing_utils.py:147: VisibleDeprecationWarning: Creating an ndarray from ragged nested sequences (which is a list-or-tuple of lists-or-tuples-or ndarrays with different lengths or shapes) is deprecated. If you meant to do this, you must specify 'dtype=object' when creating the ndarray.\n",
      "  return np.array(dot_centers)\n",
      "/usr/local/lib/python3.8/dist-packages/deepcell_spots/postprocessing_utils.py:147: VisibleDeprecationWarning: Creating an ndarray from ragged nested sequences (which is a list-or-tuple of lists-or-tuples-or ndarrays with different lengths or shapes) is deprecated. If you meant to do this, you must specify 'dtype=object' when creating the ndarray.\n",
      "  return np.array(dot_centers)\n",
      "/usr/local/lib/python3.8/dist-packages/deepcell_spots/postprocessing_utils.py:147: VisibleDeprecationWarning: Creating an ndarray from ragged nested sequences (which is a list-or-tuple of lists-or-tuples-or ndarrays with different lengths or shapes) is deprecated. If you meant to do this, you must specify 'dtype=object' when creating the ndarray.\n",
      "  return np.array(dot_centers)\n",
      "/usr/local/lib/python3.8/dist-packages/deepcell_spots/postprocessing_utils.py:147: VisibleDeprecationWarning: Creating an ndarray from ragged nested sequences (which is a list-or-tuple of lists-or-tuples-or ndarrays with different lengths or shapes) is deprecated. If you meant to do this, you must specify 'dtype=object' when creating the ndarray.\n",
      "  return np.array(dot_centers)\n",
      "100%|██████████████████████████████████████████████████████████████████████████████████████████████████████████████████████████| 6/6 [01:12<00:00, 12.00s/it]\n"
     ]
    }
   ],
   "source": [
    "num_spots_list = np.linspace(20,300,6).astype(int)\n",
    "stats_df = pd.DataFrame(columns=['Model', 'Image', 'Density', 'Precision', 'Recall', 'F1'])\n",
    "\n",
    "data_dir = '../data/simulated_images/sim_images_density.npz'\n",
    "sim_images_density = np.load(data_dir, allow_pickle=True)\n",
    "X_density = sim_images_density['X']\n",
    "y_density = sim_images_density['y']\n",
    "\n",
    "for i in tqdm(range(np.shape(X_density)[0])):\n",
    "\n",
    "    sim_pred_all = np.expand_dims(sim_model.predict(X_density[i]), axis=0)\n",
    "    plm_pred_all = np.expand_dims(plm_model.predict(X_density[i]), axis=0)\n",
    "    log_pred_all = np.expand_dims(log_model.predict(X_density[i]), axis=0)\n",
    "    dog_pred_all = np.expand_dims(dog_model.predict(X_density[i]), axis=0)\n",
    "    em_pred_all = np.expand_dims(em_model.predict(X_density[i]), axis=0)\n",
    "    trackpy_pred_all = np.expand_dims(trackpy_model.predict(X_density[i]), axis=0)\n",
    "    \n",
    "    coords = y_density[i]\n",
    "\n",
    "    pred_dict = {}\n",
    "    pred_dict['Sim'] = sim_pred_all\n",
    "    pred_dict['PLM'] = plm_pred_all\n",
    "    pred_dict['LoG'] = log_pred_all\n",
    "    pred_dict['DoG'] = dog_pred_all\n",
    "    pred_dict['TrackPy'] = trackpy_pred_all\n",
    "    pred_dict['Polaris'] = em_pred_all\n",
    "    \n",
    "    for key in pred_dict.keys():\n",
    "        pred = {}\n",
    "        pred['offset_regression'] = pred_dict[key][0][0]\n",
    "        pred['classification'] = pred_dict[key][0][1]\n",
    "        points_list = y_annotations_to_point_list_max(pred, threshold=0.98, min_distance=1)\n",
    "        for ind in range(100):\n",
    "            stats_dict = stats_points(coords[ind],\n",
    "                                      points_list[ind],\n",
    "                                      1,\n",
    "                                      match_points_function=match_points_mutual_nearest_neighbor)\n",
    "            temp_df = pd.DataFrame(columns=['Model', 'Image', 'Density', 'Precision', 'Recall', 'F1'])\n",
    "            temp_df['Model'] = [key]\n",
    "            temp_df['Image'] = [ind]\n",
    "            temp_df['Density'] = [num_spots_list[i]]\n",
    "            temp_df['Precision'] = [stats_dict['precision']]\n",
    "            temp_df['Recall'] = [stats_dict['recall']]\n",
    "            temp_df['F1'] = [stats_dict['F1']]\n",
    "\n",
    "            stats_df = pd.concat([stats_df, temp_df])"
   ]
  },
  {
   "cell_type": "code",
   "execution_count": 12,
   "id": "4f61a63e",
   "metadata": {},
   "outputs": [
    {
     "data": {
      "text/html": [
       "<div>\n",
       "<style scoped>\n",
       "    .dataframe tbody tr th:only-of-type {\n",
       "        vertical-align: middle;\n",
       "    }\n",
       "\n",
       "    .dataframe tbody tr th {\n",
       "        vertical-align: top;\n",
       "    }\n",
       "\n",
       "    .dataframe thead th {\n",
       "        text-align: right;\n",
       "    }\n",
       "</style>\n",
       "<table border=\"1\" class=\"dataframe\">\n",
       "  <thead>\n",
       "    <tr style=\"text-align: right;\">\n",
       "      <th></th>\n",
       "      <th>Model</th>\n",
       "      <th>20</th>\n",
       "      <th>76</th>\n",
       "      <th>132</th>\n",
       "      <th>188</th>\n",
       "      <th>244</th>\n",
       "      <th>300</th>\n",
       "    </tr>\n",
       "  </thead>\n",
       "  <tbody>\n",
       "    <tr>\n",
       "      <th>0</th>\n",
       "      <td>Sim</td>\n",
       "      <td>0.850452</td>\n",
       "      <td>0.785393</td>\n",
       "      <td>0.706859</td>\n",
       "      <td>0.618859</td>\n",
       "      <td>0.530409</td>\n",
       "      <td>0.448641</td>\n",
       "    </tr>\n",
       "    <tr>\n",
       "      <th>0</th>\n",
       "      <td>PLM</td>\n",
       "      <td>0.567208</td>\n",
       "      <td>0.424208</td>\n",
       "      <td>0.339671</td>\n",
       "      <td>0.254328</td>\n",
       "      <td>0.188596</td>\n",
       "      <td>0.136044</td>\n",
       "    </tr>\n",
       "    <tr>\n",
       "      <th>0</th>\n",
       "      <td>LoG</td>\n",
       "      <td>0.915960</td>\n",
       "      <td>0.821265</td>\n",
       "      <td>0.721519</td>\n",
       "      <td>0.601750</td>\n",
       "      <td>0.500261</td>\n",
       "      <td>0.413655</td>\n",
       "    </tr>\n",
       "    <tr>\n",
       "      <th>0</th>\n",
       "      <td>DoG</td>\n",
       "      <td>0.918124</td>\n",
       "      <td>0.829595</td>\n",
       "      <td>0.740113</td>\n",
       "      <td>0.626309</td>\n",
       "      <td>0.528846</td>\n",
       "      <td>0.446871</td>\n",
       "    </tr>\n",
       "    <tr>\n",
       "      <th>0</th>\n",
       "      <td>TrackPy</td>\n",
       "      <td>0.918220</td>\n",
       "      <td>0.790940</td>\n",
       "      <td>0.653372</td>\n",
       "      <td>0.511296</td>\n",
       "      <td>0.397177</td>\n",
       "      <td>0.308849</td>\n",
       "    </tr>\n",
       "    <tr>\n",
       "      <th>0</th>\n",
       "      <td>Polaris</td>\n",
       "      <td>0.935783</td>\n",
       "      <td>0.850666</td>\n",
       "      <td>0.763798</td>\n",
       "      <td>0.657338</td>\n",
       "      <td>0.570878</td>\n",
       "      <td>0.497239</td>\n",
       "    </tr>\n",
       "  </tbody>\n",
       "</table>\n",
       "</div>"
      ],
      "text/plain": [
       "     Model        20        76       132       188       244       300\n",
       "0      Sim  0.850452  0.785393  0.706859  0.618859  0.530409  0.448641\n",
       "0      PLM  0.567208  0.424208  0.339671  0.254328  0.188596  0.136044\n",
       "0      LoG  0.915960  0.821265  0.721519  0.601750  0.500261  0.413655\n",
       "0      DoG  0.918124  0.829595  0.740113  0.626309  0.528846  0.446871\n",
       "0  TrackPy  0.918220  0.790940  0.653372  0.511296  0.397177  0.308849\n",
       "0  Polaris  0.935783  0.850666  0.763798  0.657338  0.570878  0.497239"
      ]
     },
     "execution_count": 12,
     "metadata": {},
     "output_type": "execute_result"
    }
   ],
   "source": [
    "summary_df = pd.DataFrame(columns=['Model'])\n",
    "\n",
    "for model in stats_df.Model.unique():\n",
    "    model_df = stats_df.loc[stats_df.Model == model]\n",
    "    temp_df = pd.DataFrame(columns=['Model'])\n",
    "    temp_df['Model'] = [model]\n",
    "    for density in num_spots_list:\n",
    "        slice_df = model_df.loc[model_df.Density == density]\n",
    "        \n",
    "        temp_df[str(density)] = np.mean(list(slice_df.F1))\n",
    "    summary_df = pd.concat([summary_df, temp_df])\n",
    "    \n",
    "summary_df"
   ]
  },
  {
   "cell_type": "code",
   "execution_count": 13,
   "id": "92c2ca0c",
   "metadata": {},
   "outputs": [
    {
     "data": {
      "image/png": "[encoded data removed]",
      "text/plain": [
       "<Figure size 864x576 with 1 Axes>"
      ]
     },
     "metadata": {
      "needs_background": "light"
     },
     "output_type": "display_data"
    }
   ],
   "source": [
    "color_map = ['forestgreen','turquoise','lightblue','dodgerblue','slateblue','darkorange']\n",
    "\n",
    "plt.figure(figsize=(12,8))\n",
    "for i in range(len(summary_df)):\n",
    "    plt.bar(np.arange(6)*10+i, summary_df.iloc[i][1:], width=0.8, label=summary_df.iloc[i][0], color=color_map[i])\n",
    "plt.xticks(ticks=np.arange(6)*10+2.5, labels=list(summary_df.columns[1:]))\n",
    "plt.xlabel('Spots/$\\mu m^2$')\n",
    "plt.ylabel('F1 score')\n",
    "plt.legend()\n",
    "plt.show()"
   ]
  },
  {
   "cell_type": "code",
   "execution_count": null,
   "id": "a961f651",
   "metadata": {
    "scrolled": true
   },
   "outputs": [
    {
     "name": "stderr",
     "output_type": "stream",
     "text": [
      "  0%|                                                                                                                                  | 0/6 [00:00<?, ?it/s]/usr/local/lib/python3.8/dist-packages/deepcell_spots/postprocessing_utils.py:147: VisibleDeprecationWarning: Creating an ndarray from ragged nested sequences (which is a list-or-tuple of lists-or-tuples-or ndarrays with different lengths or shapes) is deprecated. If you meant to do this, you must specify 'dtype=object' when creating the ndarray.\n",
      "  return np.array(dot_centers)\n",
      "/usr/local/lib/python3.8/dist-packages/deepcell_spots/postprocessing_utils.py:147: VisibleDeprecationWarning: Creating an ndarray from ragged nested sequences (which is a list-or-tuple of lists-or-tuples-or ndarrays with different lengths or shapes) is deprecated. If you meant to do this, you must specify 'dtype=object' when creating the ndarray.\n",
      "  return np.array(dot_centers)\n",
      "/usr/local/lib/python3.8/dist-packages/deepcell_spots/postprocessing_utils.py:147: VisibleDeprecationWarning: Creating an ndarray from ragged nested sequences (which is a list-or-tuple of lists-or-tuples-or ndarrays with different lengths or shapes) is deprecated. If you meant to do this, you must specify 'dtype=object' when creating the ndarray.\n",
      "  return np.array(dot_centers)\n",
      "/usr/local/lib/python3.8/dist-packages/deepcell_spots/postprocessing_utils.py:147: VisibleDeprecationWarning: Creating an ndarray from ragged nested sequences (which is a list-or-tuple of lists-or-tuples-or ndarrays with different lengths or shapes) is deprecated. If you meant to do this, you must specify 'dtype=object' when creating the ndarray.\n",
      "  return np.array(dot_centers)\n",
      "/usr/local/lib/python3.8/dist-packages/deepcell_spots/postprocessing_utils.py:147: VisibleDeprecationWarning: Creating an ndarray from ragged nested sequences (which is a list-or-tuple of lists-or-tuples-or ndarrays with different lengths or shapes) is deprecated. If you meant to do this, you must specify 'dtype=object' when creating the ndarray.\n",
      "  return np.array(dot_centers)\n",
      "/usr/local/lib/python3.8/dist-packages/deepcell_spots/postprocessing_utils.py:147: VisibleDeprecationWarning: Creating an ndarray from ragged nested sequences (which is a list-or-tuple of lists-or-tuples-or ndarrays with different lengths or shapes) is deprecated. If you meant to do this, you must specify 'dtype=object' when creating the ndarray.\n",
      "  return np.array(dot_centers)\n",
      " 17%|████████████████████▎                                                                                                     | 1/6 [00:10<00:52, 10.59s/it]/usr/local/lib/python3.8/dist-packages/deepcell_spots/postprocessing_utils.py:147: VisibleDeprecationWarning: Creating an ndarray from ragged nested sequences (which is a list-or-tuple of lists-or-tuples-or ndarrays with different lengths or shapes) is deprecated. If you meant to do this, you must specify 'dtype=object' when creating the ndarray.\n",
      "  return np.array(dot_centers)\n",
      "/usr/local/lib/python3.8/dist-packages/deepcell_spots/postprocessing_utils.py:147: VisibleDeprecationWarning: Creating an ndarray from ragged nested sequences (which is a list-or-tuple of lists-or-tuples-or ndarrays with different lengths or shapes) is deprecated. If you meant to do this, you must specify 'dtype=object' when creating the ndarray.\n",
      "  return np.array(dot_centers)\n",
      "/usr/local/lib/python3.8/dist-packages/deepcell_spots/postprocessing_utils.py:147: VisibleDeprecationWarning: Creating an ndarray from ragged nested sequences (which is a list-or-tuple of lists-or-tuples-or ndarrays with different lengths or shapes) is deprecated. If you meant to do this, you must specify 'dtype=object' when creating the ndarray.\n",
      "  return np.array(dot_centers)\n",
      "/usr/local/lib/python3.8/dist-packages/deepcell_spots/postprocessing_utils.py:147: VisibleDeprecationWarning: Creating an ndarray from ragged nested sequences (which is a list-or-tuple of lists-or-tuples-or ndarrays with different lengths or shapes) is deprecated. If you meant to do this, you must specify 'dtype=object' when creating the ndarray.\n",
      "  return np.array(dot_centers)\n",
      "/usr/local/lib/python3.8/dist-packages/deepcell_spots/postprocessing_utils.py:147: VisibleDeprecationWarning: Creating an ndarray from ragged nested sequences (which is a list-or-tuple of lists-or-tuples-or ndarrays with different lengths or shapes) is deprecated. If you meant to do this, you must specify 'dtype=object' when creating the ndarray.\n",
      "  return np.array(dot_centers)\n",
      "/usr/local/lib/python3.8/dist-packages/deepcell_spots/postprocessing_utils.py:147: VisibleDeprecationWarning: Creating an ndarray from ragged nested sequences (which is a list-or-tuple of lists-or-tuples-or ndarrays with different lengths or shapes) is deprecated. If you meant to do this, you must specify 'dtype=object' when creating the ndarray.\n",
      "  return np.array(dot_centers)\n",
      " 33%|████████████████████████████████████████▋                                                                                 | 2/6 [00:21<00:44, 11.05s/it]/usr/local/lib/python3.8/dist-packages/deepcell_spots/postprocessing_utils.py:147: VisibleDeprecationWarning: Creating an ndarray from ragged nested sequences (which is a list-or-tuple of lists-or-tuples-or ndarrays with different lengths or shapes) is deprecated. If you meant to do this, you must specify 'dtype=object' when creating the ndarray.\n",
      "  return np.array(dot_centers)\n",
      "/usr/local/lib/python3.8/dist-packages/deepcell_spots/postprocessing_utils.py:147: VisibleDeprecationWarning: Creating an ndarray from ragged nested sequences (which is a list-or-tuple of lists-or-tuples-or ndarrays with different lengths or shapes) is deprecated. If you meant to do this, you must specify 'dtype=object' when creating the ndarray.\n",
      "  return np.array(dot_centers)\n",
      "/usr/local/lib/python3.8/dist-packages/deepcell_spots/postprocessing_utils.py:147: VisibleDeprecationWarning: Creating an ndarray from ragged nested sequences (which is a list-or-tuple of lists-or-tuples-or ndarrays with different lengths or shapes) is deprecated. If you meant to do this, you must specify 'dtype=object' when creating the ndarray.\n",
      "  return np.array(dot_centers)\n",
      "/usr/local/lib/python3.8/dist-packages/deepcell_spots/postprocessing_utils.py:147: VisibleDeprecationWarning: Creating an ndarray from ragged nested sequences (which is a list-or-tuple of lists-or-tuples-or ndarrays with different lengths or shapes) is deprecated. If you meant to do this, you must specify 'dtype=object' when creating the ndarray.\n",
      "  return np.array(dot_centers)\n",
      "/usr/local/lib/python3.8/dist-packages/deepcell_spots/postprocessing_utils.py:147: VisibleDeprecationWarning: Creating an ndarray from ragged nested sequences (which is a list-or-tuple of lists-or-tuples-or ndarrays with different lengths or shapes) is deprecated. If you meant to do this, you must specify 'dtype=object' when creating the ndarray.\n",
      "  return np.array(dot_centers)\n",
      "/usr/local/lib/python3.8/dist-packages/deepcell_spots/postprocessing_utils.py:147: VisibleDeprecationWarning: Creating an ndarray from ragged nested sequences (which is a list-or-tuple of lists-or-tuples-or ndarrays with different lengths or shapes) is deprecated. If you meant to do this, you must specify 'dtype=object' when creating the ndarray.\n",
      "  return np.array(dot_centers)\n",
      " 50%|█████████████████████████████████████████████████████████████                                                             | 3/6 [00:33<00:33, 11.14s/it]/usr/local/lib/python3.8/dist-packages/deepcell_spots/postprocessing_utils.py:147: VisibleDeprecationWarning: Creating an ndarray from ragged nested sequences (which is a list-or-tuple of lists-or-tuples-or ndarrays with different lengths or shapes) is deprecated. If you meant to do this, you must specify 'dtype=object' when creating the ndarray.\n",
      "  return np.array(dot_centers)\n",
      "/usr/local/lib/python3.8/dist-packages/deepcell_spots/postprocessing_utils.py:147: VisibleDeprecationWarning: Creating an ndarray from ragged nested sequences (which is a list-or-tuple of lists-or-tuples-or ndarrays with different lengths or shapes) is deprecated. If you meant to do this, you must specify 'dtype=object' when creating the ndarray.\n",
      "  return np.array(dot_centers)\n"
     ]
    },
    {
     "name": "stderr",
     "output_type": "stream",
     "text": [
      "/usr/local/lib/python3.8/dist-packages/deepcell_spots/postprocessing_utils.py:147: VisibleDeprecationWarning: Creating an ndarray from ragged nested sequences (which is a list-or-tuple of lists-or-tuples-or ndarrays with different lengths or shapes) is deprecated. If you meant to do this, you must specify 'dtype=object' when creating the ndarray.\n",
      "  return np.array(dot_centers)\n",
      "/usr/local/lib/python3.8/dist-packages/deepcell_spots/postprocessing_utils.py:147: VisibleDeprecationWarning: Creating an ndarray from ragged nested sequences (which is a list-or-tuple of lists-or-tuples-or ndarrays with different lengths or shapes) is deprecated. If you meant to do this, you must specify 'dtype=object' when creating the ndarray.\n",
      "  return np.array(dot_centers)\n",
      "/usr/local/lib/python3.8/dist-packages/deepcell_spots/postprocessing_utils.py:147: VisibleDeprecationWarning: Creating an ndarray from ragged nested sequences (which is a list-or-tuple of lists-or-tuples-or ndarrays with different lengths or shapes) is deprecated. If you meant to do this, you must specify 'dtype=object' when creating the ndarray.\n",
      "  return np.array(dot_centers)\n",
      "/usr/local/lib/python3.8/dist-packages/deepcell_spots/postprocessing_utils.py:147: VisibleDeprecationWarning: Creating an ndarray from ragged nested sequences (which is a list-or-tuple of lists-or-tuples-or ndarrays with different lengths or shapes) is deprecated. If you meant to do this, you must specify 'dtype=object' when creating the ndarray.\n",
      "  return np.array(dot_centers)\n",
      " 67%|█████████████████████████████████████████████████████████████████████████████████▎                                        | 4/6 [00:44<00:22, 11.30s/it]"
     ]
    }
   ],
   "source": [
    "A_list = np.linspace(3,6,6)\n",
    "stats_df_int = pd.DataFrame(columns=['Model', 'Image', 'Intensity', 'Precision', 'Recall', 'F1'])\n",
    "\n",
    "data_dir = '../simulated_images/sim_images_intensity.npz'\n",
    "sim_images_intensity = np.load(data_dir, allow_pickle=True)\n",
    "X_intensity = sim_images_intensity['X']\n",
    "y_intensity = sim_images_intensity['y']\n",
    "\n",
    "for i in tqdm(range(np.shape(X_intensity)[0])):\n",
    "\n",
    "    sim_pred_all = np.expand_dims(sim_model.predict(X_intensity[i]), axis=0)\n",
    "    plm_pred_all = np.expand_dims(plm_model.predict(X_intensity[i]), axis=0)\n",
    "    log_pred_all = np.expand_dims(log_model.predict(X_intensity[i]), axis=0)\n",
    "    dog_pred_all = np.expand_dims(dog_model.predict(X_intensity[i]), axis=0)\n",
    "    em_pred_all = np.expand_dims(em_model.predict(X_intensity[i]), axis=0)\n",
    "    trackpy_pred_all = np.expand_dims(trackpy_model.predict(X_intensity[i]), axis=0)\n",
    "    \n",
    "    coords = y_intensity[i]\n",
    "\n",
    "    pred_dict = {}\n",
    "    pred_dict['Sim'] = sim_pred_all\n",
    "    pred_dict['PLM'] = plm_pred_all\n",
    "    pred_dict['LoG'] = log_pred_all\n",
    "    pred_dict['DoG'] = dog_pred_all\n",
    "    pred_dict['TrackPy'] = trackpy_pred_all\n",
    "    pred_dict['Polaris'] = em_pred_all\n",
    "    \n",
    "    for key in pred_dict.keys():\n",
    "        pred = {}\n",
    "        pred['offset_regression'] = pred_dict[key][0][0]\n",
    "        pred['classification'] = pred_dict[key][0][1]\n",
    "        points_list = y_annotations_to_point_list_max(pred, threshold=0.98, min_distance=1)\n",
    "        for ind in range(100):\n",
    "            stats_dict = stats_points(coords[ind],\n",
    "                                      points_list[ind],\n",
    "                                      1,\n",
    "                                      match_points_function=match_points_mutual_nearest_neighbor)\n",
    "            temp_df = pd.DataFrame(columns=['Model', 'Image', 'Intensity', 'Precision', 'Recall', 'F1'])\n",
    "            temp_df['Model'] = [key]\n",
    "            temp_df['Image'] = [ind]\n",
    "            temp_df['Intensity'] = [A_list[i]]\n",
    "            temp_df['Precision'] = [stats_dict['precision']]\n",
    "            temp_df['Recall'] = [stats_dict['recall']]\n",
    "            temp_df['F1'] = [stats_dict['F1']]\n",
    "\n",
    "            stats_df_int = pd.concat([stats_df_int, temp_df])"
   ]
  },
  {
   "cell_type": "code",
   "execution_count": null,
   "id": "ad69fe43",
   "metadata": {},
   "outputs": [],
   "source": [
    "summary_df_int = pd.DataFrame(columns=['Model'])\n",
    "\n",
    "for model in stats_df_int.Model.unique():\n",
    "    model_df = stats_df_int.loc[stats_df_int.Model == model]\n",
    "    temp_df = pd.DataFrame(columns=['Model'])\n",
    "    temp_df['Model'] = [model]\n",
    "    for A in A_list:\n",
    "        slice_df = model_df.loc[model_df.Intensity == A]\n",
    "        \n",
    "        temp_df[str(A)] = np.mean(list(slice_df.F1))\n",
    "    summary_df_int = pd.concat([summary_df_int, temp_df])\n",
    "    \n",
    "summary_df_int"
   ]
  },
  {
   "cell_type": "code",
   "execution_count": null,
   "id": "6f35aa34",
   "metadata": {},
   "outputs": [],
   "source": [
    "plt.figure(figsize=(12,8))\n",
    "for i in range(len(summary_df_int)):\n",
    "    plt.bar(np.arange(6)*10+i, summary_df_int.iloc[i][1:], width=0.8, label=summary_df_int.iloc[i][0], color=color_map[i])\n",
    "plt.xticks(ticks=np.arange(6)*10+2.5, labels=list(summary_df_int.columns[1:]))\n",
    "plt.xlabel('Spot intensity')\n",
    "plt.ylabel('F1 score')\n",
    "plt.legend()\n",
    "plt.show()"
   ]
  },
  {
   "cell_type": "code",
   "execution_count": null,
   "id": "c9fa821b",
   "metadata": {},
   "outputs": [],
   "source": []
  }
 ],
 "metadata": {
  "kernelspec": {
   "display_name": "Python 3 (ipykernel)",
   "language": "python",
   "name": "python3"
  },
  "language_info": {
   "codemirror_mode": {
    "name": "ipython",
    "version": 3
   },
   "file_extension": ".py",
   "mimetype": "text/x-python",
   "name": "python",
   "nbconvert_exporter": "python",
   "pygments_lexer": "ipython3",
   "version": "3.8.10"
  }
 },
 "nbformat": 4,
 "nbformat_minor": 5
}
